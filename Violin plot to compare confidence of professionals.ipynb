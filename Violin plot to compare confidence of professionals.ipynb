{
 "cells": [
  {
   "cell_type": "code",
   "execution_count": 3,
   "id": "62290cd3",
   "metadata": {},
   "outputs": [
    {
     "name": "stdout",
     "output_type": "stream",
     "text": [
      "(701, 3)\n"
     ]
    },
    {
     "data": {
      "image/png": "[encoded data removed]",
      "text/plain": [
       "<Figure size 432x288 with 1 Axes>"
      ]
     },
     "metadata": {
      "needs_background": "light"
     },
     "output_type": "display_data"
    },
    {
     "data": {
      "application/vnd.plotly.v1+json": {
       "config": {
        "plotlyServerURL": "https://plot.ly"
       },
       "data": [
        {
         "box": {
          "visible": true
         },
         "fillcolor": "hotpink",
         "line": {
          "color": "dimgray"
         },
         "meanline": {
          "visible": true
         },
         "name": "Student",
         "type": "violin",
         "x": [
          "Student",
          "Student",
          "Student",
          "Student",
          "Student",
          "Student",
          "Student",
          "Student",
          "Student",
          "Student",
          "Student",
          "Student",
          "Student",
          "Student",
          "Student",
          "Student",
          "Student",
          "Student",
          "Student",
          "Student",
          "Student",
          "Student",
          "Student",
          "Student",
          "Student",
          "Student",
          "Student",
          "Student",
          "Student",
          "Student",
          "Student",
          "Student",
          "Student",
          "Student",
          "Student",
          "Student",
          "Student",
          "Student",
          "Student",
          "Student",
          "Student",
          "Student",
          "Student",
          "Student",
          "Student",
          "Student",
          "Student",
          "Student",
          "Student",
          "Student",
          "Student",
          "Student",
          "Student",
          "Student",
          "Student",
          "Student",
          "Student",
          "Student",
          "Student",
          "Student",
          "Student",
          "Student",
          "Student",
          "Student",
          "Student",
          "Student",
          "Student",
          "Student",
          "Student",
          "Student",
          "Student",
          "Student",
          "Student",
          "Student",
          "Student",
          "Student",
          "Student",
          "Student",
          "Student",
          "Student",
          "Student",
          "Student",
          "Student",
          "Student",
          "Student",
          "Student",
          "Student",
          "Student",
          "Student",
          "Student",
          "Student",
          "Student",
          "Student",
          "Student",
          "Student",
          "Student",
          "Student",
          "Student",
          "Student",
          "Student",
          "Student",
          "Student",
          "Student",
          "Student",
          "Student",
          "Student",
          "Student",
          "Student",
          "Student",
          "Student",
          "Student",
          "Student",
          "Student",
          "Student",
          "Student",
          "Student",
          "Student",
          "Student",
          "Student",
          "Student",
          "Student",
          "Student",
          "Student",
          "Student",
          "Student",
          "Student",
          "Student",
          "Student",
          "Student",
          "Student",
          "Student",
          "Student",
          "Student",
          "Student",
          "Student",
          "Student",
          "Student",
          "Student",
          "Student",
          "Student",
          "Student",
          "Student",
          "Student",
          "Student",
          "Student",
          "Student",
          "Student",
          "Student",
          "Student",
          "Student",
          "Student",
          "Student",
          "Student",
          "Student",
          "Student",
          "Student",
          "Student",
          "Student",
          "Student",
          "Student",
          "Student",
          "Student",
          "Student",
          "Student",
          "Student",
          "Student",
          "Student",
          "Student",
          "Student",
          "Student",
          "Student",
          "Student",
          "Student",
          "Student",
          "Student",
          "Student",
          "Student",
          "Student",
          "Student",
          "Student",
          "Student",
          "Student",
          "Student",
          "Student",
          "Student",
          "Student",
          "Student",
          "Student",
          "Student",
          "Student",
          "Student",
          "Student",
          "Student",
          "Student",
          "Student",
          "Student",
          "Student",
          "Student",
          "Student",
          "Student",
          "Student",
          "Student",
          "Student",
          "Student",
          "Student",
          "Student",
          "Student",
          "Student",
          "Student",
          "Student",
          "Student",
          "Student",
          "Student",
          "Student",
          "Student",
          "Student",
          "Student",
          "Student",
          "Student",
          "Student",
          "Student",
          "Student",
          "Student",
          "Student",
          "Student",
          "Student",
          "Student",
          "Student",
          "Student",
          "Student",
          "Student",
          "Student",
          "Student",
          "Student",
          "Student",
          "Student",
          "Student",
          "Student",
          "Student",
          "Student",
          "Student",
          "Student",
          "Student",
          "Student",
          "Student",
          "Student",
          "Student",
          "Student",
          "Student",
          "Student",
          "Student",
          "Student",
          "Student",
          "Student",
          "Student",
          "Student",
          "Student",
          "Student",
          "Student",
          "Student",
          "Student",
          "Student",
          "Student",
          "Student",
          "Student",
          "Student",
          "Student",
          "Student",
          "Student",
          "Student",
          "Student",
          "Student",
          "Student",
          "Student"
         ],
         "y": [
          1.4583333333333333,
          1.5,
          1.4166666666666667,
          0.8333333333333334,
          0.625,
          0.9583333333333334,
          1.0416666666666667,
          1.1666666666666667,
          1.4583333333333333,
          1.2916666666666667,
          0.875,
          1.5,
          1.0833333333333333,
          1.0833333333333333,
          1.125,
          1.375,
          1.2083333333333333,
          1.125,
          1.0416666666666667,
          1.125,
          1.25,
          1.5416666666666665,
          1.5,
          1.3333333333333333,
          1,
          1.3333333333333333,
          1,
          1.2916666666666667,
          1,
          1.3333333333333333,
          1.625,
          1.0833333333333333,
          1.0416666666666667,
          1.0416666666666667,
          0.9583333333333334,
          1.2083333333333333,
          1.1666666666666667,
          1.0833333333333333,
          1.125,
          0.9166666666666666,
          1.0416666666666667,
          1.0833333333333333,
          1.25,
          0.875,
          1.2083333333333333,
          1.0833333333333333,
          1.125,
          0.8333333333333334,
          1.0833333333333333,
          0.9583333333333334,
          1.125,
          1.25,
          1.2083333333333333,
          1.2916666666666667,
          1.375,
          1.0416666666666667,
          1,
          1.3333333333333333,
          0.9583333333333334,
          1.0833333333333333,
          1.0833333333333333,
          1,
          1.3333333333333333,
          1.2916666666666667,
          1.0416666666666667,
          0.8333333333333334,
          0.75,
          1,
          1.3333333333333333,
          1,
          1.125,
          1.375,
          1.3333333333333333,
          1.375,
          1.1666666666666667,
          0.9583333333333334,
          1.5,
          0.9583333333333334,
          1.125,
          1.1666666666666667,
          1.25,
          1.25,
          1.5,
          1.25,
          1.4166666666666667,
          1.6666666666666665,
          1.3333333333333333,
          1.0833333333333333,
          1.25,
          1.3333333333333333,
          0.875,
          1.0416666666666667,
          1,
          1.125,
          1.2916666666666667,
          1.3333333333333333,
          0.9583333333333334,
          1.2916666666666667,
          1.2083333333333333,
          1,
          1.125,
          1.125,
          1.1666666666666667,
          1.0833333333333333,
          1.2083333333333333,
          1.25,
          1.0416666666666667,
          1.0416666666666667,
          0.875,
          1.0416666666666667,
          1.5833333333333335,
          0.9583333333333334,
          1,
          1.4166666666666667,
          1.4583333333333333,
          1.2083333333333333,
          1.1666666666666667,
          1.2083333333333333,
          1.375,
          1.2916666666666667,
          1.2916666666666667,
          1.5,
          1.3333333333333333,
          1.25,
          1.5,
          1.5833333333333335,
          1.25,
          1,
          1.4583333333333333,
          0.875,
          1.0833333333333333,
          0.9166666666666666,
          1.0833333333333333,
          1.0416666666666667,
          1.0833333333333333,
          0.75,
          1.375,
          1.2083333333333333,
          0.875,
          1.1666666666666667,
          0.9583333333333334,
          1.4166666666666667,
          1.0833333333333333,
          1.25,
          0.8333333333333334,
          0.9583333333333334,
          0.8333333333333334,
          1.4166666666666667,
          0.7916666666666666,
          0.9583333333333334,
          1.25,
          0.9583333333333334,
          1.0416666666666667,
          1.0833333333333333,
          1.2916666666666667,
          0.9166666666666666,
          1,
          1.5,
          1.25,
          1.125,
          0.8333333333333334,
          1.25,
          1.0833333333333333,
          0.9166666666666666,
          1.0833333333333333,
          1.0416666666666667,
          1.25,
          1.0833333333333333,
          1.3333333333333333,
          0.9583333333333334,
          0.9583333333333334,
          1.375,
          0.75,
          0.8333333333333334,
          0.9583333333333334,
          1.5833333333333335,
          1.0416666666666667,
          1,
          1.125,
          0.7916666666666666,
          1,
          0.875,
          1.1666666666666667,
          1.0833333333333333,
          1.0416666666666667,
          1.1666666666666667,
          1.0833333333333333,
          1,
          1.1666666666666667,
          1.0833333333333333,
          1,
          0.8333333333333334,
          0.875,
          1.125,
          1.0416666666666667,
          1.2083333333333333,
          1.25,
          1.125,
          1.0833333333333333,
          1.0833333333333333,
          1.4166666666666667,
          1.3333333333333333,
          1.0416666666666667,
          1.1666666666666667,
          1.125,
          1.0833333333333333,
          1.1666666666666667,
          1,
          1.0833333333333333,
          0.9583333333333334,
          1.2083333333333333,
          1.2083333333333333,
          1.125,
          1.3333333333333333,
          1.25,
          1.1666666666666667,
          1.2083333333333333,
          1.125,
          0.6666666666666667,
          1.3333333333333333,
          1.2083333333333333,
          1.625,
          1.2916666666666667,
          1.2916666666666667,
          1.2916666666666667,
          1.2916666666666667,
          1.3333333333333333,
          1.125,
          1.0416666666666667,
          1.0833333333333333,
          1.0416666666666667,
          1.0833333333333333,
          1.2083333333333333,
          1.0833333333333333,
          1.0833333333333333,
          1.125,
          1.25,
          1.2916666666666667,
          1.2083333333333333,
          1.0416666666666667,
          1.25,
          1.1666666666666667,
          1.2083333333333333,
          1.2083333333333333,
          0.9166666666666666,
          1.125,
          1.0833333333333333,
          0.875,
          0.5833333333333333,
          1.2083333333333333,
          1.2083333333333333,
          1.125,
          1.125,
          0.9166666666666666,
          1.125,
          1.0416666666666667,
          1.375,
          1.25,
          1.375,
          1.0833333333333333,
          1.0833333333333333,
          1.4583333333333333,
          1.5833333333333335,
          1.2083333333333333,
          1.1666666666666667,
          1.25,
          1.25,
          1.375,
          1.4166666666666667,
          1.3333333333333333,
          1.2916666666666667,
          1.0833333333333333,
          1.375,
          1.5
         ]
        },
        {
         "box": {
          "visible": true
         },
         "fillcolor": "mediumorchid",
         "line": {
          "color": "dimgray"
         },
         "meanline": {
          "visible": true
         },
         "name": "Doctor",
         "type": "violin",
         "x": [
          "Doctor",
          "Doctor",
          "Doctor",
          "Doctor",
          "Doctor",
          "Doctor",
          "Doctor",
          "Doctor",
          "Doctor",
          "Doctor",
          "Doctor",
          "Doctor",
          "Doctor",
          "Doctor",
          "Doctor",
          "Doctor",
          "Doctor",
          "Doctor",
          "Doctor",
          "Doctor",
          "Doctor",
          "Doctor",
          "Doctor",
          "Doctor",
          "Doctor",
          "Doctor",
          "Doctor",
          "Doctor",
          "Doctor",
          "Doctor",
          "Doctor",
          "Doctor",
          "Doctor",
          "Doctor",
          "Doctor",
          "Doctor",
          "Doctor",
          "Doctor",
          "Doctor",
          "Doctor",
          "Doctor",
          "Doctor",
          "Doctor",
          "Doctor",
          "Doctor",
          "Doctor",
          "Doctor",
          "Doctor",
          "Doctor",
          "Doctor",
          "Doctor",
          "Doctor",
          "Doctor",
          "Doctor",
          "Doctor",
          "Doctor",
          "Doctor",
          "Doctor",
          "Doctor",
          "Doctor",
          "Doctor",
          "Doctor",
          "Doctor",
          "Doctor",
          "Doctor",
          "Doctor",
          "Doctor",
          "Doctor",
          "Doctor",
          "Doctor",
          "Doctor",
          "Doctor",
          "Doctor",
          "Doctor",
          "Doctor",
          "Doctor",
          "Doctor",
          "Doctor",
          "Doctor",
          "Doctor",
          "Doctor",
          "Doctor",
          "Doctor",
          "Doctor",
          "Doctor",
          "Doctor",
          "Doctor",
          "Doctor",
          "Doctor",
          "Doctor",
          "Doctor",
          "Doctor",
          "Doctor",
          "Doctor",
          "Doctor",
          "Doctor",
          "Doctor",
          "Doctor",
          "Doctor",
          "Doctor",
          "Doctor",
          "Doctor",
          "Doctor",
          "Doctor",
          "Doctor",
          "Doctor",
          "Doctor",
          "Doctor",
          "Doctor",
          "Doctor",
          "Doctor",
          "Doctor",
          "Doctor",
          "Doctor",
          "Doctor",
          "Doctor",
          "Doctor",
          "Doctor",
          "Doctor",
          "Doctor",
          "Doctor",
          "Doctor",
          "Doctor",
          "Doctor",
          "Doctor",
          "Doctor",
          "Doctor",
          "Doctor",
          "Doctor",
          "Doctor",
          "Doctor",
          "Doctor",
          "Doctor",
          "Doctor",
          "Doctor",
          "Doctor",
          "Doctor",
          "Doctor",
          "Doctor",
          "Doctor",
          "Doctor",
          "Doctor",
          "Doctor",
          "Doctor",
          "Doctor",
          "Doctor",
          "Doctor",
          "Doctor",
          "Doctor",
          "Doctor",
          "Doctor",
          "Doctor",
          "Doctor",
          "Doctor",
          "Doctor",
          "Doctor",
          "Doctor",
          "Doctor",
          "Doctor",
          "Doctor",
          "Doctor",
          "Doctor",
          "Doctor",
          "Doctor",
          "Doctor",
          "Doctor",
          "Doctor",
          "Doctor",
          "Doctor",
          "Doctor",
          "Doctor",
          "Doctor",
          "Doctor",
          "Doctor",
          "Doctor",
          "Doctor",
          "Doctor",
          "Doctor",
          "Doctor",
          "Doctor",
          "Doctor",
          "Doctor",
          "Doctor",
          "Doctor",
          "Doctor",
          "Doctor",
          "Doctor",
          "Doctor",
          "Doctor",
          "Doctor",
          "Doctor",
          "Doctor",
          "Doctor",
          "Doctor",
          "Doctor",
          "Doctor",
          "Doctor",
          "Doctor",
          "Doctor",
          "Doctor",
          "Doctor",
          "Doctor",
          "Doctor",
          "Doctor",
          "Doctor",
          "Doctor",
          "Doctor",
          "Doctor",
          "Doctor",
          "Doctor",
          "Doctor",
          "Doctor",
          "Doctor",
          "Doctor",
          "Doctor",
          "Doctor",
          "Doctor",
          "Doctor",
          "Doctor",
          "Doctor",
          "Doctor",
          "Doctor",
          "Doctor",
          "Doctor",
          "Doctor",
          "Doctor",
          "Doctor",
          "Doctor",
          "Doctor",
          "Doctor",
          "Doctor",
          "Doctor",
          "Doctor",
          "Doctor",
          "Doctor",
          "Doctor",
          "Doctor",
          "Doctor",
          "Doctor",
          "Doctor",
          "Doctor",
          "Doctor",
          "Doctor",
          "Doctor",
          "Doctor",
          "Doctor",
          "Doctor",
          "Doctor",
          "Doctor",
          "Doctor",
          "Doctor",
          "Doctor",
          "Doctor",
          "Doctor",
          "Doctor",
          "Doctor",
          "Doctor",
          "Doctor",
          "Doctor",
          "Doctor",
          "Doctor",
          "Doctor",
          "Doctor",
          "Doctor",
          "Doctor",
          "Doctor",
          "Doctor",
          "Doctor",
          "Doctor",
          "Doctor",
          "Doctor",
          "Doctor",
          "Doctor",
          "Doctor",
          "Doctor",
          "Doctor",
          "Doctor",
          "Doctor",
          "Doctor",
          "Doctor",
          "Doctor",
          "Doctor",
          "Doctor",
          "Doctor",
          "Doctor",
          "Doctor"
         ],
         "y": [
          1.0833333333333333,
          1.2916666666666667,
          1.3333333333333333,
          1.4166666666666667,
          1.4166666666666667,
          1.5,
          1.2083333333333333,
          1.0833333333333333,
          1.375,
          1.1666666666666667,
          0.8333333333333334,
          1.1666666666666667,
          1.5833333333333335,
          1.0833333333333333,
          1.0416666666666667,
          1.0833333333333333,
          0.9166666666666666,
          1.0416666666666667,
          0.8333333333333334,
          0.875,
          0.75,
          0.9583333333333334,
          0.75,
          0.75,
          1,
          0.7083333333333333,
          0.8333333333333334,
          0.9166666666666666,
          0.7916666666666666,
          0.9583333333333334,
          1.0833333333333333,
          1.0833333333333333,
          0.7916666666666666,
          0.8333333333333334,
          0.7083333333333333,
          0.875,
          0.6666666666666667,
          0.7083333333333333,
          0.9166666666666666,
          1.1666666666666667,
          1.625,
          1.125,
          0.9583333333333334,
          1,
          0.875,
          0.8333333333333334,
          0.7916666666666666,
          0.75,
          0.7083333333333333,
          0.75,
          0.9583333333333334,
          1.5833333333333335,
          1,
          1.3333333333333333,
          1.5416666666666665,
          0.7916666666666666,
          1.3333333333333333,
          1.5,
          0.7083333333333333,
          1.625,
          1.4583333333333333,
          1.5833333333333335,
          1.5833333333333335,
          1.0833333333333333,
          1.25,
          1.375,
          1.2916666666666667,
          1.5833333333333335,
          1.25,
          1,
          1.0416666666666667,
          1.625,
          1.125,
          1.1666666666666667,
          1.25,
          1.625,
          1.2083333333333333,
          1.375,
          1.625,
          1.2083333333333333,
          1.2916666666666667,
          1.6666666666666665,
          1.4583333333333333,
          1.2083333333333333,
          0.8333333333333334,
          0.9583333333333334,
          0.6666666666666667,
          0.9583333333333334,
          1.5,
          1.125,
          1,
          1.5833333333333335,
          1.2083333333333333,
          1.25,
          1.125,
          1.5,
          0.7916666666666666,
          1.5833333333333335,
          1.375,
          1.2916666666666667,
          1.4583333333333333,
          1.5833333333333335,
          1.3333333333333333,
          1.4583333333333333,
          1.2916666666666667,
          1.3333333333333333,
          1.2916666666666667,
          1.375,
          1.25,
          0.9166666666666666,
          1,
          1.3333333333333333,
          0.8333333333333334,
          0.7083333333333333,
          0.7083333333333333,
          0.9166666666666666,
          0.7916666666666666,
          1,
          1.0833333333333333,
          1,
          1.25,
          1.2916666666666667,
          1,
          0.7083333333333333,
          0.9166666666666666,
          0.9166666666666666,
          0.75,
          0.875,
          0.875,
          1.0416666666666667,
          0.875,
          1,
          0.7916666666666666,
          0.75,
          0.7916666666666666,
          0.8333333333333334,
          0.6666666666666667,
          1.0416666666666667,
          1.0416666666666667,
          1.0416666666666667,
          1.0416666666666667,
          1.125,
          1.2083333333333333,
          1.25,
          1.2083333333333333,
          1.1666666666666667,
          1.1666666666666667,
          1.25,
          0.6666666666666667,
          0.9583333333333334,
          0.8333333333333334,
          1.125,
          0.875,
          0.8333333333333334,
          1.125,
          0.9583333333333334,
          0.7916666666666666,
          1.1666666666666667,
          0.9166666666666666,
          0.9166666666666666,
          0.8333333333333334,
          0.75,
          0.7083333333333333,
          0.8333333333333334,
          1,
          0.875,
          0.7916666666666666,
          0.75,
          0.9583333333333334,
          0.7916666666666666,
          0.9583333333333334,
          0.8333333333333334,
          0.9583333333333334,
          0.875,
          0.8333333333333334,
          1,
          0.9583333333333334,
          0.875,
          0.8333333333333334,
          1.0416666666666667,
          1.0833333333333333,
          1,
          0.7916666666666666,
          0.8333333333333334,
          0.9166666666666666,
          0.7916666666666666,
          0.75,
          0.9583333333333334,
          0.75,
          0.9583333333333334,
          1.0416666666666667,
          0.8333333333333334,
          0.875,
          0.8333333333333334,
          0.9166666666666666,
          1.0416666666666667,
          0.7916666666666666,
          0.75,
          0.875,
          0.9166666666666666,
          1,
          1.125,
          0.9583333333333334,
          0.9583333333333334,
          0.9166666666666666,
          0.875,
          0.875,
          0.7916666666666666,
          0.875,
          1,
          0.875,
          0.875,
          0.6666666666666667,
          0.8333333333333334,
          0.875,
          0.875,
          0.9166666666666666,
          0.875,
          0.7916666666666666,
          0.9166666666666666,
          0.8333333333333334,
          0.7916666666666666,
          0.875,
          0.8333333333333334,
          0.7083333333333333,
          0.875,
          0.8333333333333334,
          0.7916666666666666,
          0.8333333333333334,
          0.8333333333333334,
          0.9583333333333334,
          0.875,
          0.8333333333333334,
          1,
          0.9583333333333334,
          0.875,
          0.8333333333333334,
          1.0416666666666667,
          1.0833333333333333,
          1,
          0.7916666666666666,
          0.8333333333333334,
          0.9166666666666666,
          0.7916666666666666,
          0.75,
          0.9583333333333334,
          0.75,
          0.9583333333333334,
          1.0416666666666667,
          0.8333333333333334,
          0.875,
          0.8333333333333334,
          0.9166666666666666,
          1.0416666666666667,
          0.7916666666666666,
          0.75,
          0.875,
          0.9166666666666666,
          1,
          1.125,
          0.9583333333333334,
          0.9583333333333334,
          0.9166666666666666,
          0.875,
          0.875,
          0.7916666666666666,
          0.875,
          1,
          0.875,
          0.875,
          0.6666666666666667,
          0.8333333333333334,
          0.875,
          0.875,
          0.9166666666666666,
          0.875,
          0.7916666666666666,
          0.9166666666666666,
          0.8333333333333334,
          0.7916666666666666,
          0.875,
          0.8333333333333334,
          0.7083333333333333,
          0.875,
          0.8333333333333334,
          0.75
         ]
        },
        {
         "box": {
          "visible": true
         },
         "fillcolor": "cyan",
         "line": {
          "color": "dimgray"
         },
         "meanline": {
          "visible": true
         },
         "name": "Pathologist",
         "type": "violin",
         "x": [
          "Pathologist",
          "Pathologist",
          "Pathologist",
          "Pathologist",
          "Pathologist",
          "Pathologist",
          "Pathologist",
          "Pathologist",
          "Pathologist",
          "Pathologist",
          "Pathologist",
          "Pathologist",
          "Pathologist",
          "Pathologist",
          "Pathologist",
          "Pathologist",
          "Pathologist",
          "Pathologist",
          "Pathologist",
          "Pathologist",
          "Pathologist",
          "Pathologist",
          "Pathologist",
          "Pathologist",
          "Pathologist",
          "Pathologist",
          "Pathologist",
          "Pathologist",
          "Pathologist",
          "Pathologist",
          "Pathologist",
          "Pathologist",
          "Pathologist",
          "Pathologist",
          "Pathologist",
          "Pathologist",
          "Pathologist",
          "Pathologist",
          "Pathologist",
          "Pathologist",
          "Pathologist",
          "Pathologist",
          "Pathologist",
          "Pathologist",
          "Pathologist",
          "Pathologist",
          "Pathologist",
          "Pathologist",
          "Pathologist",
          "Pathologist",
          "Pathologist",
          "Pathologist",
          "Pathologist"
         ],
         "y": [
          1.625,
          0.9583333333333334,
          1.0833333333333333,
          1.125,
          1.5,
          1.4166666666666667,
          1.625,
          1.1666666666666667,
          1.125,
          1.0416666666666667,
          1.125,
          1.2916666666666667,
          1.2916666666666667,
          1.25,
          0.9166666666666666,
          1,
          1.2083333333333333,
          1.1666666666666667,
          1.0833333333333333,
          1.6666666666666665,
          1.0833333333333333,
          1.0416666666666667,
          1.2916666666666667,
          1.375,
          1.375,
          1.2916666666666667,
          1.0416666666666667,
          0.9166666666666666,
          0.7916666666666666,
          1.0416666666666667,
          1.4166666666666667,
          0.9166666666666666,
          0.9583333333333334,
          0.9583333333333334,
          0.9166666666666666,
          0.9583333333333334,
          1.375,
          1.0416666666666667,
          1.0416666666666667,
          0.875,
          0.9166666666666666,
          1,
          0.7083333333333333,
          0.9166666666666666,
          0.9583333333333334,
          1.2083333333333333,
          0.8333333333333334,
          0.75,
          0.7916666666666666,
          0.7916666666666666,
          0.7916666666666666,
          0.8333333333333334,
          0.8333333333333334
         ]
        },
        {
         "box": {
          "visible": true
         },
         "fillcolor": "darkseagreen",
         "line": {
          "color": "dimgray"
         },
         "meanline": {
          "visible": true
         },
         "name": "Radiologist",
         "type": "violin",
         "x": [
          "Radiologist",
          "Radiologist",
          "Radiologist",
          "Radiologist",
          "Radiologist",
          "Radiologist",
          "Radiologist",
          "Radiologist",
          "Radiologist",
          "Radiologist",
          "Radiologist",
          "Radiologist",
          "Radiologist",
          "Radiologist",
          "Radiologist",
          "Radiologist",
          "Radiologist",
          "Radiologist",
          "Radiologist",
          "Radiologist",
          "Radiologist",
          "Radiologist",
          "Radiologist",
          "Radiologist",
          "Radiologist",
          "Radiologist",
          "Radiologist",
          "Radiologist",
          "Radiologist",
          "Radiologist",
          "Radiologist",
          "Radiologist",
          "Radiologist",
          "Radiologist",
          "Radiologist",
          "Radiologist",
          "Radiologist",
          "Radiologist",
          "Radiologist",
          "Radiologist",
          "Radiologist",
          "Radiologist",
          "Radiologist",
          "Radiologist",
          "Radiologist",
          "Radiologist",
          "Radiologist",
          "Radiologist",
          "Radiologist",
          "Radiologist",
          "Radiologist",
          "Radiologist",
          "Radiologist",
          "Radiologist",
          "Radiologist",
          "Radiologist",
          "Radiologist",
          "Radiologist",
          "Radiologist",
          "Radiologist",
          "Radiologist",
          "Radiologist",
          "Radiologist",
          "Radiologist"
         ],
         "y": [
          1.4166666666666667,
          1.0416666666666667,
          1.3333333333333333,
          1.5,
          1.375,
          0.9166666666666666,
          1.0833333333333333,
          0.9583333333333334,
          1.0833333333333333,
          1,
          1.4583333333333333,
          1.75,
          1.4166666666666667,
          1.25,
          0.9166666666666666,
          0.7916666666666666,
          1.25,
          0.7083333333333333,
          0.7083333333333333,
          0.7083333333333333,
          0.9583333333333334,
          0.7083333333333333,
          1,
          0.9583333333333334,
          1,
          0.7916666666666666,
          0.8333333333333334,
          0.9166666666666666,
          0.9166666666666666,
          0.9166666666666666,
          1.0833333333333333,
          1.0416666666666667,
          0.8333333333333334,
          0.75,
          0.9583333333333334,
          0.8333333333333334,
          0.875,
          1.1666666666666667,
          0.7916666666666666,
          0.8333333333333334,
          1,
          0.7916666666666666,
          0.7083333333333333,
          1.0416666666666667,
          0.8333333333333334,
          0.9166666666666666,
          0.9166666666666666,
          0.9583333333333334,
          0.9583333333333334,
          0.875,
          0.9166666666666666,
          0.7916666666666666,
          1,
          0.7916666666666666,
          0.7083333333333333,
          1.0416666666666667,
          0.8333333333333334,
          0.9166666666666666,
          0.9166666666666666,
          0.9583333333333334,
          0.9583333333333334,
          0.875,
          0.9166666666666666,
          0.7916666666666666
         ]
        },
        {
         "box": {
          "visible": true
         },
         "fillcolor": "gold",
         "line": {
          "color": "dimgray"
         },
         "meanline": {
          "visible": true
         },
         "name": "Technician",
         "type": "violin",
         "x": [
          "Technician",
          "Technician",
          "Technician",
          "Technician",
          "Technician",
          "Technician",
          "Technician",
          "Technician",
          "Technician",
          "Technician",
          "Technician",
          "Technician",
          "Technician",
          "Technician",
          "Technician",
          "Technician",
          "Technician",
          "Technician",
          "Technician",
          "Technician",
          "Technician",
          "Technician",
          "Technician",
          "Technician"
         ],
         "y": [
          1,
          1.2916666666666667,
          1.0833333333333333,
          1.3333333333333333,
          1.25,
          1.0833333333333333,
          1,
          1.0833333333333333,
          1.4166666666666667,
          1.375,
          1,
          0.75,
          1.2916666666666667,
          1.125,
          0.9583333333333334,
          0.45833333333333337,
          0.25,
          1.0833333333333333,
          0.8333333333333334,
          0.8333333333333334,
          0.8333333333333334,
          1.1666666666666667,
          0.8333333333333334,
          1.1666666666666667
         ]
        }
       ],
       "layout": {
        "autosize": false,
        "height": 500,
        "template": {
         "data": {
          "bar": [
           {
            "error_x": {
             "color": "#2a3f5f"
            },
            "error_y": {
             "color": "#2a3f5f"
            },
            "marker": {
             "line": {
              "color": "#E5ECF6",
              "width": 0.5
             },
             "pattern": {
              "fillmode": "overlay",
              "size": 10,
              "solidity": 0.2
             }
            },
            "type": "bar"
           }
          ],
          "barpolar": [
           {
            "marker": {
             "line": {
              "color": "#E5ECF6",
              "width": 0.5
             },
             "pattern": {
              "fillmode": "overlay",
              "size": 10,
              "solidity": 0.2
             }
            },
            "type": "barpolar"
           }
          ],
          "carpet": [
           {
            "aaxis": {
             "endlinecolor": "#2a3f5f",
             "gridcolor": "white",
             "linecolor": "white",
             "minorgridcolor": "white",
             "startlinecolor": "#2a3f5f"
            },
            "baxis": {
             "endlinecolor": "#2a3f5f",
             "gridcolor": "white",
             "linecolor": "white",
             "minorgridcolor": "white",
             "startlinecolor": "#2a3f5f"
            },
            "type": "carpet"
           }
          ],
          "choropleth": [
           {
            "colorbar": {
             "outlinewidth": 0,
             "ticks": ""
            },
            "type": "choropleth"
           }
          ],
          "contour": [
           {
            "colorbar": {
             "outlinewidth": 0,
             "ticks": ""
            },
            "colorscale": [
             [
              0,
              "#0d0887"
             ],
             [
              0.1111111111111111,
              "#46039f"
             ],
             [
              0.2222222222222222,
              "#7201a8"
             ],
             [
              0.3333333333333333,
              "#9c179e"
             ],
             [
              0.4444444444444444,
              "#bd3786"
             ],
             [
              0.5555555555555556,
              "#d8576b"
             ],
             [
              0.6666666666666666,
              "#ed7953"
             ],
             [
              0.7777777777777778,
              "#fb9f3a"
             ],
             [
              0.8888888888888888,
              "#fdca26"
             ],
             [
              1,
              "#f0f921"
             ]
            ],
            "type": "contour"
           }
          ],
          "contourcarpet": [
           {
            "colorbar": {
             "outlinewidth": 0,
             "ticks": ""
            },
            "type": "contourcarpet"
           }
          ],
          "heatmap": [
           {
            "colorbar": {
             "outlinewidth": 0,
             "ticks": ""
            },
            "colorscale": [
             [
              0,
              "#0d0887"
             ],
             [
              0.1111111111111111,
              "#46039f"
             ],
             [
              0.2222222222222222,
              "#7201a8"
             ],
             [
              0.3333333333333333,
              "#9c179e"
             ],
             [
              0.4444444444444444,
              "#bd3786"
             ],
             [
              0.5555555555555556,
              "#d8576b"
             ],
             [
              0.6666666666666666,
              "#ed7953"
             ],
             [
              0.7777777777777778,
              "#fb9f3a"
             ],
             [
              0.8888888888888888,
              "#fdca26"
             ],
             [
              1,
              "#f0f921"
             ]
            ],
            "type": "heatmap"
           }
          ],
          "heatmapgl": [
           {
            "colorbar": {
             "outlinewidth": 0,
             "ticks": ""
            },
            "colorscale": [
             [
              0,
              "#0d0887"
             ],
             [
              0.1111111111111111,
              "#46039f"
             ],
             [
              0.2222222222222222,
              "#7201a8"
             ],
             [
              0.3333333333333333,
              "#9c179e"
             ],
             [
              0.4444444444444444,
              "#bd3786"
             ],
             [
              0.5555555555555556,
              "#d8576b"
             ],
             [
              0.6666666666666666,
              "#ed7953"
             ],
             [
              0.7777777777777778,
              "#fb9f3a"
             ],
             [
              0.8888888888888888,
              "#fdca26"
             ],
             [
              1,
              "#f0f921"
             ]
            ],
            "type": "heatmapgl"
           }
          ],
          "histogram": [
           {
            "marker": {
             "pattern": {
              "fillmode": "overlay",
              "size": 10,
              "solidity": 0.2
             }
            },
            "type": "histogram"
           }
          ],
          "histogram2d": [
           {
            "colorbar": {
             "outlinewidth": 0,
             "ticks": ""
            },
            "colorscale": [
             [
              0,
              "#0d0887"
             ],
             [
              0.1111111111111111,
              "#46039f"
             ],
             [
              0.2222222222222222,
              "#7201a8"
             ],
             [
              0.3333333333333333,
              "#9c179e"
             ],
             [
              0.4444444444444444,
              "#bd3786"
             ],
             [
              0.5555555555555556,
              "#d8576b"
             ],
             [
              0.6666666666666666,
              "#ed7953"
             ],
             [
              0.7777777777777778,
              "#fb9f3a"
             ],
             [
              0.8888888888888888,
              "#fdca26"
             ],
             [
              1,
              "#f0f921"
             ]
            ],
            "type": "histogram2d"
           }
          ],
          "histogram2dcontour": [
           {
            "colorbar": {
             "outlinewidth": 0,
             "ticks": ""
            },
            "colorscale": [
             [
              0,
              "#0d0887"
             ],
             [
              0.1111111111111111,
              "#46039f"
             ],
             [
              0.2222222222222222,
              "#7201a8"
             ],
             [
              0.3333333333333333,
              "#9c179e"
             ],
             [
              0.4444444444444444,
              "#bd3786"
             ],
             [
              0.5555555555555556,
              "#d8576b"
             ],
             [
              0.6666666666666666,
              "#ed7953"
             ],
             [
              0.7777777777777778,
              "#fb9f3a"
             ],
             [
              0.8888888888888888,
              "#fdca26"
             ],
             [
              1,
              "#f0f921"
             ]
            ],
            "type": "histogram2dcontour"
           }
          ],
          "mesh3d": [
           {
            "colorbar": {
             "outlinewidth": 0,
             "ticks": ""
            },
            "type": "mesh3d"
           }
          ],
          "parcoords": [
           {
            "line": {
             "colorbar": {
              "outlinewidth": 0,
              "ticks": ""
             }
            },
            "type": "parcoords"
           }
          ],
          "pie": [
           {
            "automargin": true,
            "type": "pie"
           }
          ],
          "scatter": [
           {
            "fillpattern": {
             "fillmode": "overlay",
             "size": 10,
             "solidity": 0.2
            },
            "type": "scatter"
           }
          ],
          "scatter3d": [
           {
            "line": {
             "colorbar": {
              "outlinewidth": 0,
              "ticks": ""
             }
            },
            "marker": {
             "colorbar": {
              "outlinewidth": 0,
              "ticks": ""
             }
            },
            "type": "scatter3d"
           }
          ],
          "scattercarpet": [
           {
            "marker": {
             "colorbar": {
              "outlinewidth": 0,
              "ticks": ""
             }
            },
            "type": "scattercarpet"
           }
          ],
          "scattergeo": [
           {
            "marker": {
             "colorbar": {
              "outlinewidth": 0,
              "ticks": ""
             }
            },
            "type": "scattergeo"
           }
          ],
          "scattergl": [
           {
            "marker": {
             "colorbar": {
              "outlinewidth": 0,
              "ticks": ""
             }
            },
            "type": "scattergl"
           }
          ],
          "scattermapbox": [
           {
            "marker": {
             "colorbar": {
              "outlinewidth": 0,
              "ticks": ""
             }
            },
            "type": "scattermapbox"
           }
          ],
          "scatterpolar": [
           {
            "marker": {
             "colorbar": {
              "outlinewidth": 0,
              "ticks": ""
             }
            },
            "type": "scatterpolar"
           }
          ],
          "scatterpolargl": [
           {
            "marker": {
             "colorbar": {
              "outlinewidth": 0,
              "ticks": ""
             }
            },
            "type": "scatterpolargl"
           }
          ],
          "scatterternary": [
           {
            "marker": {
             "colorbar": {
              "outlinewidth": 0,
              "ticks": ""
             }
            },
            "type": "scatterternary"
           }
          ],
          "surface": [
           {
            "colorbar": {
             "outlinewidth": 0,
             "ticks": ""
            },
            "colorscale": [
             [
              0,
              "#0d0887"
             ],
             [
              0.1111111111111111,
              "#46039f"
             ],
             [
              0.2222222222222222,
              "#7201a8"
             ],
             [
              0.3333333333333333,
              "#9c179e"
             ],
             [
              0.4444444444444444,
              "#bd3786"
             ],
             [
              0.5555555555555556,
              "#d8576b"
             ],
             [
              0.6666666666666666,
              "#ed7953"
             ],
             [
              0.7777777777777778,
              "#fb9f3a"
             ],
             [
              0.8888888888888888,
              "#fdca26"
             ],
             [
              1,
              "#f0f921"
             ]
            ],
            "type": "surface"
           }
          ],
          "table": [
           {
            "cells": {
             "fill": {
              "color": "#EBF0F8"
             },
             "line": {
              "color": "white"
             }
            },
            "header": {
             "fill": {
              "color": "#C8D4E3"
             },
             "line": {
              "color": "white"
             }
            },
            "type": "table"
           }
          ]
         },
         "layout": {
          "annotationdefaults": {
           "arrowcolor": "#2a3f5f",
           "arrowhead": 0,
           "arrowwidth": 1
          },
          "autotypenumbers": "strict",
          "coloraxis": {
           "colorbar": {
            "outlinewidth": 0,
            "ticks": ""
           }
          },
          "colorscale": {
           "diverging": [
            [
             0,
             "#8e0152"
            ],
            [
             0.1,
             "#c51b7d"
            ],
            [
             0.2,
             "#de77ae"
            ],
            [
             0.3,
             "#f1b6da"
            ],
            [
             0.4,
             "#fde0ef"
            ],
            [
             0.5,
             "#f7f7f7"
            ],
            [
             0.6,
             "#e6f5d0"
            ],
            [
             0.7,
             "#b8e186"
            ],
            [
             0.8,
             "#7fbc41"
            ],
            [
             0.9,
             "#4d9221"
            ],
            [
             1,
             "#276419"
            ]
           ],
           "sequential": [
            [
             0,
             "#0d0887"
            ],
            [
             0.1111111111111111,
             "#46039f"
            ],
            [
             0.2222222222222222,
             "#7201a8"
            ],
            [
             0.3333333333333333,
             "#9c179e"
            ],
            [
             0.4444444444444444,
             "#bd3786"
            ],
            [
             0.5555555555555556,
             "#d8576b"
            ],
            [
             0.6666666666666666,
             "#ed7953"
            ],
            [
             0.7777777777777778,
             "#fb9f3a"
            ],
            [
             0.8888888888888888,
             "#fdca26"
            ],
            [
             1,
             "#f0f921"
            ]
           ],
           "sequentialminus": [
            [
             0,
             "#0d0887"
            ],
            [
             0.1111111111111111,
             "#46039f"
            ],
            [
             0.2222222222222222,
             "#7201a8"
            ],
            [
             0.3333333333333333,
             "#9c179e"
            ],
            [
             0.4444444444444444,
             "#bd3786"
            ],
            [
             0.5555555555555556,
             "#d8576b"
            ],
            [
             0.6666666666666666,
             "#ed7953"
            ],
            [
             0.7777777777777778,
             "#fb9f3a"
            ],
            [
             0.8888888888888888,
             "#fdca26"
            ],
            [
             1,
             "#f0f921"
            ]
           ]
          },
          "colorway": [
           "#636efa",
           "#EF553B",
           "#00cc96",
           "#ab63fa",
           "#FFA15A",
           "#19d3f3",
           "#FF6692",
           "#B6E880",
           "#FF97FF",
           "#FECB52"
          ],
          "font": {
           "color": "#2a3f5f"
          },
          "geo": {
           "bgcolor": "white",
           "lakecolor": "white",
           "landcolor": "#E5ECF6",
           "showlakes": true,
           "showland": true,
           "subunitcolor": "white"
          },
          "hoverlabel": {
           "align": "left"
          },
          "hovermode": "closest",
          "mapbox": {
           "style": "light"
          },
          "paper_bgcolor": "white",
          "plot_bgcolor": "#E5ECF6",
          "polar": {
           "angularaxis": {
            "gridcolor": "white",
            "linecolor": "white",
            "ticks": ""
           },
           "bgcolor": "#E5ECF6",
           "radialaxis": {
            "gridcolor": "white",
            "linecolor": "white",
            "ticks": ""
           }
          },
          "scene": {
           "xaxis": {
            "backgroundcolor": "#E5ECF6",
            "gridcolor": "white",
            "gridwidth": 2,
            "linecolor": "white",
            "showbackground": true,
            "ticks": "",
            "zerolinecolor": "white"
           },
           "yaxis": {
            "backgroundcolor": "#E5ECF6",
            "gridcolor": "white",
            "gridwidth": 2,
            "linecolor": "white",
            "showbackground": true,
            "ticks": "",
            "zerolinecolor": "white"
           },
           "zaxis": {
            "backgroundcolor": "#E5ECF6",
            "gridcolor": "white",
            "gridwidth": 2,
            "linecolor": "white",
            "showbackground": true,
            "ticks": "",
            "zerolinecolor": "white"
           }
          },
          "shapedefaults": {
           "line": {
            "color": "#2a3f5f"
           }
          },
          "ternary": {
           "aaxis": {
            "gridcolor": "white",
            "linecolor": "white",
            "ticks": ""
           },
           "baxis": {
            "gridcolor": "white",
            "linecolor": "white",
            "ticks": ""
           },
           "bgcolor": "#E5ECF6",
           "caxis": {
            "gridcolor": "white",
            "linecolor": "white",
            "ticks": ""
           }
          },
          "title": {
           "x": 0.05
          },
          "xaxis": {
           "automargin": true,
           "gridcolor": "white",
           "linecolor": "white",
           "ticks": "",
           "title": {
            "standoff": 15
           },
           "zerolinecolor": "white",
           "zerolinewidth": 2
          },
          "yaxis": {
           "automargin": true,
           "gridcolor": "white",
           "linecolor": "white",
           "ticks": "",
           "title": {
            "standoff": 15
           },
           "zerolinecolor": "white",
           "zerolinewidth": 2
          }
         }
        },
        "width": 800
       }
      },
      "text/html": [
       "<div>                            <div id=\"010038ff-3374-46bf-86c9-125a0116badd\" class=\"plotly-graph-div\" style=\"height:500px; width:800px;\"></div>            <script type=\"text/javascript\">                require([\"plotly\"], function(Plotly) {                    window.PLOTLYENV=window.PLOTLYENV || {};                                    if (document.getElementById(\"010038ff-3374-46bf-86c9-125a0116badd\")) {                    Plotly.newPlot(                        \"010038ff-3374-46bf-86c9-125a0116badd\",                        [{\"box\":{\"visible\":true},\"fillcolor\":\"hotpink\",\"line\":{\"color\":\"dimgray\"},\"meanline\":{\"visible\":true},\"name\":\"Student\",\"x\":[\"Student\",\"Student\",\"Student\",\"Student\",\"Student\",\"Student\",\"Student\",\"Student\",\"Student\",\"Student\",\"Student\",\"Student\",\"Student\",\"Student\",\"Student\",\"Student\",\"Student\",\"Student\",\"Student\",\"Student\",\"Student\",\"Student\",\"Student\",\"Student\",\"Student\",\"Student\",\"Student\",\"Student\",\"Student\",\"Student\",\"Student\",\"Student\",\"Student\",\"Student\",\"Student\",\"Student\",\"Student\",\"Student\",\"Student\",\"Student\",\"Student\",\"Student\",\"Student\",\"Student\",\"Student\",\"Student\",\"Student\",\"Student\",\"Student\",\"Student\",\"Student\",\"Student\",\"Student\",\"Student\",\"Student\",\"Student\",\"Student\",\"Student\",\"Student\",\"Student\",\"Student\",\"Student\",\"Student\",\"Student\",\"Student\",\"Student\",\"Student\",\"Student\",\"Student\",\"Student\",\"Student\",\"Student\",\"Student\",\"Student\",\"Student\",\"Student\",\"Student\",\"Student\",\"Student\",\"Student\",\"Student\",\"Student\",\"Student\",\"Student\",\"Student\",\"Student\",\"Student\",\"Student\",\"Student\",\"Student\",\"Student\",\"Student\",\"Student\",\"Student\",\"Student\",\"Student\",\"Student\",\"Student\",\"Student\",\"Student\",\"Student\",\"Student\",\"Student\",\"Student\",\"Student\",\"Student\",\"Student\",\"Student\",\"Student\",\"Student\",\"Student\",\"Student\",\"Student\",\"Student\",\"Student\",\"Student\",\"Student\",\"Student\",\"Student\",\"Student\",\"Student\",\"Student\",\"Student\",\"Student\",\"Student\",\"Student\",\"Student\",\"Student\",\"Student\",\"Student\",\"Student\",\"Student\",\"Student\",\"Student\",\"Student\",\"Student\",\"Student\",\"Student\",\"Student\",\"Student\",\"Student\",\"Student\",\"Student\",\"Student\",\"Student\",\"Student\",\"Student\",\"Student\",\"Student\",\"Student\",\"Student\",\"Student\",\"Student\",\"Student\",\"Student\",\"Student\",\"Student\",\"Student\",\"Student\",\"Student\",\"Student\",\"Student\",\"Student\",\"Student\",\"Student\",\"Student\",\"Student\",\"Student\",\"Student\",\"Student\",\"Student\",\"Student\",\"Student\",\"Student\",\"Student\",\"Student\",\"Student\",\"Student\",\"Student\",\"Student\",\"Student\",\"Student\",\"Student\",\"Student\",\"Student\",\"Student\",\"Student\",\"Student\",\"Student\",\"Student\",\"Student\",\"Student\",\"Student\",\"Student\",\"Student\",\"Student\",\"Student\",\"Student\",\"Student\",\"Student\",\"Student\",\"Student\",\"Student\",\"Student\",\"Student\",\"Student\",\"Student\",\"Student\",\"Student\",\"Student\",\"Student\",\"Student\",\"Student\",\"Student\",\"Student\",\"Student\",\"Student\",\"Student\",\"Student\",\"Student\",\"Student\",\"Student\",\"Student\",\"Student\",\"Student\",\"Student\",\"Student\",\"Student\",\"Student\",\"Student\",\"Student\",\"Student\",\"Student\",\"Student\",\"Student\",\"Student\",\"Student\",\"Student\",\"Student\",\"Student\",\"Student\",\"Student\",\"Student\",\"Student\",\"Student\",\"Student\",\"Student\",\"Student\",\"Student\",\"Student\",\"Student\",\"Student\",\"Student\",\"Student\",\"Student\",\"Student\",\"Student\",\"Student\",\"Student\",\"Student\",\"Student\",\"Student\",\"Student\",\"Student\",\"Student\",\"Student\",\"Student\",\"Student\",\"Student\",\"Student\",\"Student\",\"Student\",\"Student\",\"Student\"],\"y\":[1.4583333333333333,1.5,1.4166666666666667,0.8333333333333334,0.625,0.9583333333333334,1.0416666666666667,1.1666666666666667,1.4583333333333333,1.2916666666666667,0.875,1.5,1.0833333333333333,1.0833333333333333,1.125,1.375,1.2083333333333333,1.125,1.0416666666666667,1.125,1.25,1.5416666666666665,1.5,1.3333333333333333,1.0,1.3333333333333333,1.0,1.2916666666666667,1.0,1.3333333333333333,1.625,1.0833333333333333,1.0416666666666667,1.0416666666666667,0.9583333333333334,1.2083333333333333,1.1666666666666667,1.0833333333333333,1.125,0.9166666666666666,1.0416666666666667,1.0833333333333333,1.25,0.875,1.2083333333333333,1.0833333333333333,1.125,0.8333333333333334,1.0833333333333333,0.9583333333333334,1.125,1.25,1.2083333333333333,1.2916666666666667,1.375,1.0416666666666667,1.0,1.3333333333333333,0.9583333333333334,1.0833333333333333,1.0833333333333333,1.0,1.3333333333333333,1.2916666666666667,1.0416666666666667,0.8333333333333334,0.75,1.0,1.3333333333333333,1.0,1.125,1.375,1.3333333333333333,1.375,1.1666666666666667,0.9583333333333334,1.5,0.9583333333333334,1.125,1.1666666666666667,1.25,1.25,1.5,1.25,1.4166666666666667,1.6666666666666665,1.3333333333333333,1.0833333333333333,1.25,1.3333333333333333,0.875,1.0416666666666667,1.0,1.125,1.2916666666666667,1.3333333333333333,0.9583333333333334,1.2916666666666667,1.2083333333333333,1.0,1.125,1.125,1.1666666666666667,1.0833333333333333,1.2083333333333333,1.25,1.0416666666666667,1.0416666666666667,0.875,1.0416666666666667,1.5833333333333335,0.9583333333333334,1.0,1.4166666666666667,1.4583333333333333,1.2083333333333333,1.1666666666666667,1.2083333333333333,1.375,1.2916666666666667,1.2916666666666667,1.5,1.3333333333333333,1.25,1.5,1.5833333333333335,1.25,1.0,1.4583333333333333,0.875,1.0833333333333333,0.9166666666666666,1.0833333333333333,1.0416666666666667,1.0833333333333333,0.75,1.375,1.2083333333333333,0.875,1.1666666666666667,0.9583333333333334,1.4166666666666667,1.0833333333333333,1.25,0.8333333333333334,0.9583333333333334,0.8333333333333334,1.4166666666666667,0.7916666666666666,0.9583333333333334,1.25,0.9583333333333334,1.0416666666666667,1.0833333333333333,1.2916666666666667,0.9166666666666666,1.0,1.5,1.25,1.125,0.8333333333333334,1.25,1.0833333333333333,0.9166666666666666,1.0833333333333333,1.0416666666666667,1.25,1.0833333333333333,1.3333333333333333,0.9583333333333334,0.9583333333333334,1.375,0.75,0.8333333333333334,0.9583333333333334,1.5833333333333335,1.0416666666666667,1.0,1.125,0.7916666666666666,1.0,0.875,1.1666666666666667,1.0833333333333333,1.0416666666666667,1.1666666666666667,1.0833333333333333,1.0,1.1666666666666667,1.0833333333333333,1.0,0.8333333333333334,0.875,1.125,1.0416666666666667,1.2083333333333333,1.25,1.125,1.0833333333333333,1.0833333333333333,1.4166666666666667,1.3333333333333333,1.0416666666666667,1.1666666666666667,1.125,1.0833333333333333,1.1666666666666667,1.0,1.0833333333333333,0.9583333333333334,1.2083333333333333,1.2083333333333333,1.125,1.3333333333333333,1.25,1.1666666666666667,1.2083333333333333,1.125,0.6666666666666667,1.3333333333333333,1.2083333333333333,1.625,1.2916666666666667,1.2916666666666667,1.2916666666666667,1.2916666666666667,1.3333333333333333,1.125,1.0416666666666667,1.0833333333333333,1.0416666666666667,1.0833333333333333,1.2083333333333333,1.0833333333333333,1.0833333333333333,1.125,1.25,1.2916666666666667,1.2083333333333333,1.0416666666666667,1.25,1.1666666666666667,1.2083333333333333,1.2083333333333333,0.9166666666666666,1.125,1.0833333333333333,0.875,0.5833333333333333,1.2083333333333333,1.2083333333333333,1.125,1.125,0.9166666666666666,1.125,1.0416666666666667,1.375,1.25,1.375,1.0833333333333333,1.0833333333333333,1.4583333333333333,1.5833333333333335,1.2083333333333333,1.1666666666666667,1.25,1.25,1.375,1.4166666666666667,1.3333333333333333,1.2916666666666667,1.0833333333333333,1.375,1.5],\"type\":\"violin\"},{\"box\":{\"visible\":true},\"fillcolor\":\"mediumorchid\",\"line\":{\"color\":\"dimgray\"},\"meanline\":{\"visible\":true},\"name\":\"Doctor\",\"x\":[\"Doctor\",\"Doctor\",\"Doctor\",\"Doctor\",\"Doctor\",\"Doctor\",\"Doctor\",\"Doctor\",\"Doctor\",\"Doctor\",\"Doctor\",\"Doctor\",\"Doctor\",\"Doctor\",\"Doctor\",\"Doctor\",\"Doctor\",\"Doctor\",\"Doctor\",\"Doctor\",\"Doctor\",\"Doctor\",\"Doctor\",\"Doctor\",\"Doctor\",\"Doctor\",\"Doctor\",\"Doctor\",\"Doctor\",\"Doctor\",\"Doctor\",\"Doctor\",\"Doctor\",\"Doctor\",\"Doctor\",\"Doctor\",\"Doctor\",\"Doctor\",\"Doctor\",\"Doctor\",\"Doctor\",\"Doctor\",\"Doctor\",\"Doctor\",\"Doctor\",\"Doctor\",\"Doctor\",\"Doctor\",\"Doctor\",\"Doctor\",\"Doctor\",\"Doctor\",\"Doctor\",\"Doctor\",\"Doctor\",\"Doctor\",\"Doctor\",\"Doctor\",\"Doctor\",\"Doctor\",\"Doctor\",\"Doctor\",\"Doctor\",\"Doctor\",\"Doctor\",\"Doctor\",\"Doctor\",\"Doctor\",\"Doctor\",\"Doctor\",\"Doctor\",\"Doctor\",\"Doctor\",\"Doctor\",\"Doctor\",\"Doctor\",\"Doctor\",\"Doctor\",\"Doctor\",\"Doctor\",\"Doctor\",\"Doctor\",\"Doctor\",\"Doctor\",\"Doctor\",\"Doctor\",\"Doctor\",\"Doctor\",\"Doctor\",\"Doctor\",\"Doctor\",\"Doctor\",\"Doctor\",\"Doctor\",\"Doctor\",\"Doctor\",\"Doctor\",\"Doctor\",\"Doctor\",\"Doctor\",\"Doctor\",\"Doctor\",\"Doctor\",\"Doctor\",\"Doctor\",\"Doctor\",\"Doctor\",\"Doctor\",\"Doctor\",\"Doctor\",\"Doctor\",\"Doctor\",\"Doctor\",\"Doctor\",\"Doctor\",\"Doctor\",\"Doctor\",\"Doctor\",\"Doctor\",\"Doctor\",\"Doctor\",\"Doctor\",\"Doctor\",\"Doctor\",\"Doctor\",\"Doctor\",\"Doctor\",\"Doctor\",\"Doctor\",\"Doctor\",\"Doctor\",\"Doctor\",\"Doctor\",\"Doctor\",\"Doctor\",\"Doctor\",\"Doctor\",\"Doctor\",\"Doctor\",\"Doctor\",\"Doctor\",\"Doctor\",\"Doctor\",\"Doctor\",\"Doctor\",\"Doctor\",\"Doctor\",\"Doctor\",\"Doctor\",\"Doctor\",\"Doctor\",\"Doctor\",\"Doctor\",\"Doctor\",\"Doctor\",\"Doctor\",\"Doctor\",\"Doctor\",\"Doctor\",\"Doctor\",\"Doctor\",\"Doctor\",\"Doctor\",\"Doctor\",\"Doctor\",\"Doctor\",\"Doctor\",\"Doctor\",\"Doctor\",\"Doctor\",\"Doctor\",\"Doctor\",\"Doctor\",\"Doctor\",\"Doctor\",\"Doctor\",\"Doctor\",\"Doctor\",\"Doctor\",\"Doctor\",\"Doctor\",\"Doctor\",\"Doctor\",\"Doctor\",\"Doctor\",\"Doctor\",\"Doctor\",\"Doctor\",\"Doctor\",\"Doctor\",\"Doctor\",\"Doctor\",\"Doctor\",\"Doctor\",\"Doctor\",\"Doctor\",\"Doctor\",\"Doctor\",\"Doctor\",\"Doctor\",\"Doctor\",\"Doctor\",\"Doctor\",\"Doctor\",\"Doctor\",\"Doctor\",\"Doctor\",\"Doctor\",\"Doctor\",\"Doctor\",\"Doctor\",\"Doctor\",\"Doctor\",\"Doctor\",\"Doctor\",\"Doctor\",\"Doctor\",\"Doctor\",\"Doctor\",\"Doctor\",\"Doctor\",\"Doctor\",\"Doctor\",\"Doctor\",\"Doctor\",\"Doctor\",\"Doctor\",\"Doctor\",\"Doctor\",\"Doctor\",\"Doctor\",\"Doctor\",\"Doctor\",\"Doctor\",\"Doctor\",\"Doctor\",\"Doctor\",\"Doctor\",\"Doctor\",\"Doctor\",\"Doctor\",\"Doctor\",\"Doctor\",\"Doctor\",\"Doctor\",\"Doctor\",\"Doctor\",\"Doctor\",\"Doctor\",\"Doctor\",\"Doctor\",\"Doctor\",\"Doctor\",\"Doctor\",\"Doctor\",\"Doctor\",\"Doctor\",\"Doctor\",\"Doctor\",\"Doctor\",\"Doctor\",\"Doctor\",\"Doctor\",\"Doctor\",\"Doctor\",\"Doctor\",\"Doctor\",\"Doctor\",\"Doctor\",\"Doctor\",\"Doctor\",\"Doctor\",\"Doctor\",\"Doctor\",\"Doctor\",\"Doctor\",\"Doctor\",\"Doctor\",\"Doctor\",\"Doctor\",\"Doctor\",\"Doctor\",\"Doctor\",\"Doctor\",\"Doctor\",\"Doctor\"],\"y\":[1.0833333333333333,1.2916666666666667,1.3333333333333333,1.4166666666666667,1.4166666666666667,1.5,1.2083333333333333,1.0833333333333333,1.375,1.1666666666666667,0.8333333333333334,1.1666666666666667,1.5833333333333335,1.0833333333333333,1.0416666666666667,1.0833333333333333,0.9166666666666666,1.0416666666666667,0.8333333333333334,0.875,0.75,0.9583333333333334,0.75,0.75,1.0,0.7083333333333333,0.8333333333333334,0.9166666666666666,0.7916666666666666,0.9583333333333334,1.0833333333333333,1.0833333333333333,0.7916666666666666,0.8333333333333334,0.7083333333333333,0.875,0.6666666666666667,0.7083333333333333,0.9166666666666666,1.1666666666666667,1.625,1.125,0.9583333333333334,1.0,0.875,0.8333333333333334,0.7916666666666666,0.75,0.7083333333333333,0.75,0.9583333333333334,1.5833333333333335,1.0,1.3333333333333333,1.5416666666666665,0.7916666666666666,1.3333333333333333,1.5,0.7083333333333333,1.625,1.4583333333333333,1.5833333333333335,1.5833333333333335,1.0833333333333333,1.25,1.375,1.2916666666666667,1.5833333333333335,1.25,1.0,1.0416666666666667,1.625,1.125,1.1666666666666667,1.25,1.625,1.2083333333333333,1.375,1.625,1.2083333333333333,1.2916666666666667,1.6666666666666665,1.4583333333333333,1.2083333333333333,0.8333333333333334,0.9583333333333334,0.6666666666666667,0.9583333333333334,1.5,1.125,1.0,1.5833333333333335,1.2083333333333333,1.25,1.125,1.5,0.7916666666666666,1.5833333333333335,1.375,1.2916666666666667,1.4583333333333333,1.5833333333333335,1.3333333333333333,1.4583333333333333,1.2916666666666667,1.3333333333333333,1.2916666666666667,1.375,1.25,0.9166666666666666,1.0,1.3333333333333333,0.8333333333333334,0.7083333333333333,0.7083333333333333,0.9166666666666666,0.7916666666666666,1.0,1.0833333333333333,1.0,1.25,1.2916666666666667,1.0,0.7083333333333333,0.9166666666666666,0.9166666666666666,0.75,0.875,0.875,1.0416666666666667,0.875,1.0,0.7916666666666666,0.75,0.7916666666666666,0.8333333333333334,0.6666666666666667,1.0416666666666667,1.0416666666666667,1.0416666666666667,1.0416666666666667,1.125,1.2083333333333333,1.25,1.2083333333333333,1.1666666666666667,1.1666666666666667,1.25,0.6666666666666667,0.9583333333333334,0.8333333333333334,1.125,0.875,0.8333333333333334,1.125,0.9583333333333334,0.7916666666666666,1.1666666666666667,0.9166666666666666,0.9166666666666666,0.8333333333333334,0.75,0.7083333333333333,0.8333333333333334,1.0,0.875,0.7916666666666666,0.75,0.9583333333333334,0.7916666666666666,0.9583333333333334,0.8333333333333334,0.9583333333333334,0.875,0.8333333333333334,1.0,0.9583333333333334,0.875,0.8333333333333334,1.0416666666666667,1.0833333333333333,1.0,0.7916666666666666,0.8333333333333334,0.9166666666666666,0.7916666666666666,0.75,0.9583333333333334,0.75,0.9583333333333334,1.0416666666666667,0.8333333333333334,0.875,0.8333333333333334,0.9166666666666666,1.0416666666666667,0.7916666666666666,0.75,0.875,0.9166666666666666,1.0,1.125,0.9583333333333334,0.9583333333333334,0.9166666666666666,0.875,0.875,0.7916666666666666,0.875,1.0,0.875,0.875,0.6666666666666667,0.8333333333333334,0.875,0.875,0.9166666666666666,0.875,0.7916666666666666,0.9166666666666666,0.8333333333333334,0.7916666666666666,0.875,0.8333333333333334,0.7083333333333333,0.875,0.8333333333333334,0.7916666666666666,0.8333333333333334,0.8333333333333334,0.9583333333333334,0.875,0.8333333333333334,1.0,0.9583333333333334,0.875,0.8333333333333334,1.0416666666666667,1.0833333333333333,1.0,0.7916666666666666,0.8333333333333334,0.9166666666666666,0.7916666666666666,0.75,0.9583333333333334,0.75,0.9583333333333334,1.0416666666666667,0.8333333333333334,0.875,0.8333333333333334,0.9166666666666666,1.0416666666666667,0.7916666666666666,0.75,0.875,0.9166666666666666,1.0,1.125,0.9583333333333334,0.9583333333333334,0.9166666666666666,0.875,0.875,0.7916666666666666,0.875,1.0,0.875,0.875,0.6666666666666667,0.8333333333333334,0.875,0.875,0.9166666666666666,0.875,0.7916666666666666,0.9166666666666666,0.8333333333333334,0.7916666666666666,0.875,0.8333333333333334,0.7083333333333333,0.875,0.8333333333333334,0.75],\"type\":\"violin\"},{\"box\":{\"visible\":true},\"fillcolor\":\"cyan\",\"line\":{\"color\":\"dimgray\"},\"meanline\":{\"visible\":true},\"name\":\"Pathologist\",\"x\":[\"Pathologist\",\"Pathologist\",\"Pathologist\",\"Pathologist\",\"Pathologist\",\"Pathologist\",\"Pathologist\",\"Pathologist\",\"Pathologist\",\"Pathologist\",\"Pathologist\",\"Pathologist\",\"Pathologist\",\"Pathologist\",\"Pathologist\",\"Pathologist\",\"Pathologist\",\"Pathologist\",\"Pathologist\",\"Pathologist\",\"Pathologist\",\"Pathologist\",\"Pathologist\",\"Pathologist\",\"Pathologist\",\"Pathologist\",\"Pathologist\",\"Pathologist\",\"Pathologist\",\"Pathologist\",\"Pathologist\",\"Pathologist\",\"Pathologist\",\"Pathologist\",\"Pathologist\",\"Pathologist\",\"Pathologist\",\"Pathologist\",\"Pathologist\",\"Pathologist\",\"Pathologist\",\"Pathologist\",\"Pathologist\",\"Pathologist\",\"Pathologist\",\"Pathologist\",\"Pathologist\",\"Pathologist\",\"Pathologist\",\"Pathologist\",\"Pathologist\",\"Pathologist\",\"Pathologist\"],\"y\":[1.625,0.9583333333333334,1.0833333333333333,1.125,1.5,1.4166666666666667,1.625,1.1666666666666667,1.125,1.0416666666666667,1.125,1.2916666666666667,1.2916666666666667,1.25,0.9166666666666666,1.0,1.2083333333333333,1.1666666666666667,1.0833333333333333,1.6666666666666665,1.0833333333333333,1.0416666666666667,1.2916666666666667,1.375,1.375,1.2916666666666667,1.0416666666666667,0.9166666666666666,0.7916666666666666,1.0416666666666667,1.4166666666666667,0.9166666666666666,0.9583333333333334,0.9583333333333334,0.9166666666666666,0.9583333333333334,1.375,1.0416666666666667,1.0416666666666667,0.875,0.9166666666666666,1.0,0.7083333333333333,0.9166666666666666,0.9583333333333334,1.2083333333333333,0.8333333333333334,0.75,0.7916666666666666,0.7916666666666666,0.7916666666666666,0.8333333333333334,0.8333333333333334],\"type\":\"violin\"},{\"box\":{\"visible\":true},\"fillcolor\":\"darkseagreen\",\"line\":{\"color\":\"dimgray\"},\"meanline\":{\"visible\":true},\"name\":\"Radiologist\",\"x\":[\"Radiologist\",\"Radiologist\",\"Radiologist\",\"Radiologist\",\"Radiologist\",\"Radiologist\",\"Radiologist\",\"Radiologist\",\"Radiologist\",\"Radiologist\",\"Radiologist\",\"Radiologist\",\"Radiologist\",\"Radiologist\",\"Radiologist\",\"Radiologist\",\"Radiologist\",\"Radiologist\",\"Radiologist\",\"Radiologist\",\"Radiologist\",\"Radiologist\",\"Radiologist\",\"Radiologist\",\"Radiologist\",\"Radiologist\",\"Radiologist\",\"Radiologist\",\"Radiologist\",\"Radiologist\",\"Radiologist\",\"Radiologist\",\"Radiologist\",\"Radiologist\",\"Radiologist\",\"Radiologist\",\"Radiologist\",\"Radiologist\",\"Radiologist\",\"Radiologist\",\"Radiologist\",\"Radiologist\",\"Radiologist\",\"Radiologist\",\"Radiologist\",\"Radiologist\",\"Radiologist\",\"Radiologist\",\"Radiologist\",\"Radiologist\",\"Radiologist\",\"Radiologist\",\"Radiologist\",\"Radiologist\",\"Radiologist\",\"Radiologist\",\"Radiologist\",\"Radiologist\",\"Radiologist\",\"Radiologist\",\"Radiologist\",\"Radiologist\",\"Radiologist\",\"Radiologist\"],\"y\":[1.4166666666666667,1.0416666666666667,1.3333333333333333,1.5,1.375,0.9166666666666666,1.0833333333333333,0.9583333333333334,1.0833333333333333,1.0,1.4583333333333333,1.75,1.4166666666666667,1.25,0.9166666666666666,0.7916666666666666,1.25,0.7083333333333333,0.7083333333333333,0.7083333333333333,0.9583333333333334,0.7083333333333333,1.0,0.9583333333333334,1.0,0.7916666666666666,0.8333333333333334,0.9166666666666666,0.9166666666666666,0.9166666666666666,1.0833333333333333,1.0416666666666667,0.8333333333333334,0.75,0.9583333333333334,0.8333333333333334,0.875,1.1666666666666667,0.7916666666666666,0.8333333333333334,1.0,0.7916666666666666,0.7083333333333333,1.0416666666666667,0.8333333333333334,0.9166666666666666,0.9166666666666666,0.9583333333333334,0.9583333333333334,0.875,0.9166666666666666,0.7916666666666666,1.0,0.7916666666666666,0.7083333333333333,1.0416666666666667,0.8333333333333334,0.9166666666666666,0.9166666666666666,0.9583333333333334,0.9583333333333334,0.875,0.9166666666666666,0.7916666666666666],\"type\":\"violin\"},{\"box\":{\"visible\":true},\"fillcolor\":\"gold\",\"line\":{\"color\":\"dimgray\"},\"meanline\":{\"visible\":true},\"name\":\"Technician\",\"x\":[\"Technician\",\"Technician\",\"Technician\",\"Technician\",\"Technician\",\"Technician\",\"Technician\",\"Technician\",\"Technician\",\"Technician\",\"Technician\",\"Technician\",\"Technician\",\"Technician\",\"Technician\",\"Technician\",\"Technician\",\"Technician\",\"Technician\",\"Technician\",\"Technician\",\"Technician\",\"Technician\",\"Technician\"],\"y\":[1.0,1.2916666666666667,1.0833333333333333,1.3333333333333333,1.25,1.0833333333333333,1.0,1.0833333333333333,1.4166666666666667,1.375,1.0,0.75,1.2916666666666667,1.125,0.9583333333333334,0.45833333333333337,0.25,1.0833333333333333,0.8333333333333334,0.8333333333333334,0.8333333333333334,1.1666666666666667,0.8333333333333334,1.1666666666666667],\"type\":\"violin\"}],                        {\"template\":{\"data\":{\"histogram2dcontour\":[{\"type\":\"histogram2dcontour\",\"colorbar\":{\"outlinewidth\":0,\"ticks\":\"\"},\"colorscale\":[[0.0,\"#0d0887\"],[0.1111111111111111,\"#46039f\"],[0.2222222222222222,\"#7201a8\"],[0.3333333333333333,\"#9c179e\"],[0.4444444444444444,\"#bd3786\"],[0.5555555555555556,\"#d8576b\"],[0.6666666666666666,\"#ed7953\"],[0.7777777777777778,\"#fb9f3a\"],[0.8888888888888888,\"#fdca26\"],[1.0,\"#f0f921\"]]}],\"choropleth\":[{\"type\":\"choropleth\",\"colorbar\":{\"outlinewidth\":0,\"ticks\":\"\"}}],\"histogram2d\":[{\"type\":\"histogram2d\",\"colorbar\":{\"outlinewidth\":0,\"ticks\":\"\"},\"colorscale\":[[0.0,\"#0d0887\"],[0.1111111111111111,\"#46039f\"],[0.2222222222222222,\"#7201a8\"],[0.3333333333333333,\"#9c179e\"],[0.4444444444444444,\"#bd3786\"],[0.5555555555555556,\"#d8576b\"],[0.6666666666666666,\"#ed7953\"],[0.7777777777777778,\"#fb9f3a\"],[0.8888888888888888,\"#fdca26\"],[1.0,\"#f0f921\"]]}],\"heatmap\":[{\"type\":\"heatmap\",\"colorbar\":{\"outlinewidth\":0,\"ticks\":\"\"},\"colorscale\":[[0.0,\"#0d0887\"],[0.1111111111111111,\"#46039f\"],[0.2222222222222222,\"#7201a8\"],[0.3333333333333333,\"#9c179e\"],[0.4444444444444444,\"#bd3786\"],[0.5555555555555556,\"#d8576b\"],[0.6666666666666666,\"#ed7953\"],[0.7777777777777778,\"#fb9f3a\"],[0.8888888888888888,\"#fdca26\"],[1.0,\"#f0f921\"]]}],\"heatmapgl\":[{\"type\":\"heatmapgl\",\"colorbar\":{\"outlinewidth\":0,\"ticks\":\"\"},\"colorscale\":[[0.0,\"#0d0887\"],[0.1111111111111111,\"#46039f\"],[0.2222222222222222,\"#7201a8\"],[0.3333333333333333,\"#9c179e\"],[0.4444444444444444,\"#bd3786\"],[0.5555555555555556,\"#d8576b\"],[0.6666666666666666,\"#ed7953\"],[0.7777777777777778,\"#fb9f3a\"],[0.8888888888888888,\"#fdca26\"],[1.0,\"#f0f921\"]]}],\"contourcarpet\":[{\"type\":\"contourcarpet\",\"colorbar\":{\"outlinewidth\":0,\"ticks\":\"\"}}],\"contour\":[{\"type\":\"contour\",\"colorbar\":{\"outlinewidth\":0,\"ticks\":\"\"},\"colorscale\":[[0.0,\"#0d0887\"],[0.1111111111111111,\"#46039f\"],[0.2222222222222222,\"#7201a8\"],[0.3333333333333333,\"#9c179e\"],[0.4444444444444444,\"#bd3786\"],[0.5555555555555556,\"#d8576b\"],[0.6666666666666666,\"#ed7953\"],[0.7777777777777778,\"#fb9f3a\"],[0.8888888888888888,\"#fdca26\"],[1.0,\"#f0f921\"]]}],\"surface\":[{\"type\":\"surface\",\"colorbar\":{\"outlinewidth\":0,\"ticks\":\"\"},\"colorscale\":[[0.0,\"#0d0887\"],[0.1111111111111111,\"#46039f\"],[0.2222222222222222,\"#7201a8\"],[0.3333333333333333,\"#9c179e\"],[0.4444444444444444,\"#bd3786\"],[0.5555555555555556,\"#d8576b\"],[0.6666666666666666,\"#ed7953\"],[0.7777777777777778,\"#fb9f3a\"],[0.8888888888888888,\"#fdca26\"],[1.0,\"#f0f921\"]]}],\"mesh3d\":[{\"type\":\"mesh3d\",\"colorbar\":{\"outlinewidth\":0,\"ticks\":\"\"}}],\"scatter\":[{\"fillpattern\":{\"fillmode\":\"overlay\",\"size\":10,\"solidity\":0.2},\"type\":\"scatter\"}],\"parcoords\":[{\"type\":\"parcoords\",\"line\":{\"colorbar\":{\"outlinewidth\":0,\"ticks\":\"\"}}}],\"scatterpolargl\":[{\"type\":\"scatterpolargl\",\"marker\":{\"colorbar\":{\"outlinewidth\":0,\"ticks\":\"\"}}}],\"bar\":[{\"error_x\":{\"color\":\"#2a3f5f\"},\"error_y\":{\"color\":\"#2a3f5f\"},\"marker\":{\"line\":{\"color\":\"#E5ECF6\",\"width\":0.5},\"pattern\":{\"fillmode\":\"overlay\",\"size\":10,\"solidity\":0.2}},\"type\":\"bar\"}],\"scattergeo\":[{\"type\":\"scattergeo\",\"marker\":{\"colorbar\":{\"outlinewidth\":0,\"ticks\":\"\"}}}],\"scatterpolar\":[{\"type\":\"scatterpolar\",\"marker\":{\"colorbar\":{\"outlinewidth\":0,\"ticks\":\"\"}}}],\"histogram\":[{\"marker\":{\"pattern\":{\"fillmode\":\"overlay\",\"size\":10,\"solidity\":0.2}},\"type\":\"histogram\"}],\"scattergl\":[{\"type\":\"scattergl\",\"marker\":{\"colorbar\":{\"outlinewidth\":0,\"ticks\":\"\"}}}],\"scatter3d\":[{\"type\":\"scatter3d\",\"line\":{\"colorbar\":{\"outlinewidth\":0,\"ticks\":\"\"}},\"marker\":{\"colorbar\":{\"outlinewidth\":0,\"ticks\":\"\"}}}],\"scattermapbox\":[{\"type\":\"scattermapbox\",\"marker\":{\"colorbar\":{\"outlinewidth\":0,\"ticks\":\"\"}}}],\"scatterternary\":[{\"type\":\"scatterternary\",\"marker\":{\"colorbar\":{\"outlinewidth\":0,\"ticks\":\"\"}}}],\"scattercarpet\":[{\"type\":\"scattercarpet\",\"marker\":{\"colorbar\":{\"outlinewidth\":0,\"ticks\":\"\"}}}],\"carpet\":[{\"aaxis\":{\"endlinecolor\":\"#2a3f5f\",\"gridcolor\":\"white\",\"linecolor\":\"white\",\"minorgridcolor\":\"white\",\"startlinecolor\":\"#2a3f5f\"},\"baxis\":{\"endlinecolor\":\"#2a3f5f\",\"gridcolor\":\"white\",\"linecolor\":\"white\",\"minorgridcolor\":\"white\",\"startlinecolor\":\"#2a3f5f\"},\"type\":\"carpet\"}],\"table\":[{\"cells\":{\"fill\":{\"color\":\"#EBF0F8\"},\"line\":{\"color\":\"white\"}},\"header\":{\"fill\":{\"color\":\"#C8D4E3\"},\"line\":{\"color\":\"white\"}},\"type\":\"table\"}],\"barpolar\":[{\"marker\":{\"line\":{\"color\":\"#E5ECF6\",\"width\":0.5},\"pattern\":{\"fillmode\":\"overlay\",\"size\":10,\"solidity\":0.2}},\"type\":\"barpolar\"}],\"pie\":[{\"automargin\":true,\"type\":\"pie\"}]},\"layout\":{\"autotypenumbers\":\"strict\",\"colorway\":[\"#636efa\",\"#EF553B\",\"#00cc96\",\"#ab63fa\",\"#FFA15A\",\"#19d3f3\",\"#FF6692\",\"#B6E880\",\"#FF97FF\",\"#FECB52\"],\"font\":{\"color\":\"#2a3f5f\"},\"hovermode\":\"closest\",\"hoverlabel\":{\"align\":\"left\"},\"paper_bgcolor\":\"white\",\"plot_bgcolor\":\"#E5ECF6\",\"polar\":{\"bgcolor\":\"#E5ECF6\",\"angularaxis\":{\"gridcolor\":\"white\",\"linecolor\":\"white\",\"ticks\":\"\"},\"radialaxis\":{\"gridcolor\":\"white\",\"linecolor\":\"white\",\"ticks\":\"\"}},\"ternary\":{\"bgcolor\":\"#E5ECF6\",\"aaxis\":{\"gridcolor\":\"white\",\"linecolor\":\"white\",\"ticks\":\"\"},\"baxis\":{\"gridcolor\":\"white\",\"linecolor\":\"white\",\"ticks\":\"\"},\"caxis\":{\"gridcolor\":\"white\",\"linecolor\":\"white\",\"ticks\":\"\"}},\"coloraxis\":{\"colorbar\":{\"outlinewidth\":0,\"ticks\":\"\"}},\"colorscale\":{\"sequential\":[[0.0,\"#0d0887\"],[0.1111111111111111,\"#46039f\"],[0.2222222222222222,\"#7201a8\"],[0.3333333333333333,\"#9c179e\"],[0.4444444444444444,\"#bd3786\"],[0.5555555555555556,\"#d8576b\"],[0.6666666666666666,\"#ed7953\"],[0.7777777777777778,\"#fb9f3a\"],[0.8888888888888888,\"#fdca26\"],[1.0,\"#f0f921\"]],\"sequentialminus\":[[0.0,\"#0d0887\"],[0.1111111111111111,\"#46039f\"],[0.2222222222222222,\"#7201a8\"],[0.3333333333333333,\"#9c179e\"],[0.4444444444444444,\"#bd3786\"],[0.5555555555555556,\"#d8576b\"],[0.6666666666666666,\"#ed7953\"],[0.7777777777777778,\"#fb9f3a\"],[0.8888888888888888,\"#fdca26\"],[1.0,\"#f0f921\"]],\"diverging\":[[0,\"#8e0152\"],[0.1,\"#c51b7d\"],[0.2,\"#de77ae\"],[0.3,\"#f1b6da\"],[0.4,\"#fde0ef\"],[0.5,\"#f7f7f7\"],[0.6,\"#e6f5d0\"],[0.7,\"#b8e186\"],[0.8,\"#7fbc41\"],[0.9,\"#4d9221\"],[1,\"#276419\"]]},\"xaxis\":{\"gridcolor\":\"white\",\"linecolor\":\"white\",\"ticks\":\"\",\"title\":{\"standoff\":15},\"zerolinecolor\":\"white\",\"automargin\":true,\"zerolinewidth\":2},\"yaxis\":{\"gridcolor\":\"white\",\"linecolor\":\"white\",\"ticks\":\"\",\"title\":{\"standoff\":15},\"zerolinecolor\":\"white\",\"automargin\":true,\"zerolinewidth\":2},\"scene\":{\"xaxis\":{\"backgroundcolor\":\"#E5ECF6\",\"gridcolor\":\"white\",\"linecolor\":\"white\",\"showbackground\":true,\"ticks\":\"\",\"zerolinecolor\":\"white\",\"gridwidth\":2},\"yaxis\":{\"backgroundcolor\":\"#E5ECF6\",\"gridcolor\":\"white\",\"linecolor\":\"white\",\"showbackground\":true,\"ticks\":\"\",\"zerolinecolor\":\"white\",\"gridwidth\":2},\"zaxis\":{\"backgroundcolor\":\"#E5ECF6\",\"gridcolor\":\"white\",\"linecolor\":\"white\",\"showbackground\":true,\"ticks\":\"\",\"zerolinecolor\":\"white\",\"gridwidth\":2}},\"shapedefaults\":{\"line\":{\"color\":\"#2a3f5f\"}},\"annotationdefaults\":{\"arrowcolor\":\"#2a3f5f\",\"arrowhead\":0,\"arrowwidth\":1},\"geo\":{\"bgcolor\":\"white\",\"landcolor\":\"#E5ECF6\",\"subunitcolor\":\"white\",\"showland\":true,\"showlakes\":true,\"lakecolor\":\"white\"},\"title\":{\"x\":0.05},\"mapbox\":{\"style\":\"light\"}}},\"autosize\":false,\"width\":800,\"height\":500},                        {\"responsive\": true}                    ).then(function(){\n",
       "                            \n",
       "var gd = document.getElementById('010038ff-3374-46bf-86c9-125a0116badd');\n",
       "var x = new MutationObserver(function (mutations, observer) {{\n",
       "        var display = window.getComputedStyle(gd).display;\n",
       "        if (!display || display === 'none') {{\n",
       "            console.log([gd, 'removed!']);\n",
       "            Plotly.purge(gd);\n",
       "            observer.disconnect();\n",
       "        }}\n",
       "}});\n",
       "\n",
       "// Listen for the removal of the full notebook cells\n",
       "var notebookContainer = gd.closest('#notebook-container');\n",
       "if (notebookContainer) {{\n",
       "    x.observe(notebookContainer, {childList: true});\n",
       "}}\n",
       "\n",
       "// Listen for the clearing of the current output cell\n",
       "var outputEl = gd.closest('.output');\n",
       "if (outputEl) {{\n",
       "    x.observe(outputEl, {childList: true});\n",
       "}}\n",
       "\n",
       "                        })                };                });            </script>        </div>"
      ]
     },
     "metadata": {},
     "output_type": "display_data"
    },
    {
     "data": {
      "application/vnd.plotly.v1+json": {
       "config": {
        "plotlyServerURL": "https://plot.ly"
       },
       "data": [
        {
         "box": {
          "visible": true
         },
         "fillcolor": "gold",
         "legendgroup": "Inside City",
         "line": {
          "color": "grey"
         },
         "meanline": {
          "visible": true
         },
         "name": "Inside City",
         "scalegroup": "Inside City",
         "type": "violin",
         "x": [
          "Doctor",
          "Doctor",
          "Doctor",
          "Doctor",
          "Doctor",
          "Doctor",
          "Student",
          "Student",
          "Student",
          "Doctor",
          "Doctor",
          "Student",
          "Student",
          "Doctor",
          "Doctor",
          "Student",
          "Doctor",
          "Student",
          "Student",
          "Student",
          "Student",
          "Student",
          "Student",
          "Student",
          "Student",
          "Student",
          "Student",
          "Student",
          "Student",
          "Doctor",
          "Pathologist",
          "Radiologist",
          "Student",
          "Doctor",
          "Doctor",
          "Student",
          "Doctor",
          "Doctor",
          "Doctor",
          "Doctor",
          "Doctor",
          "Doctor",
          "Doctor",
          "Doctor",
          "Student",
          "Student",
          "Student",
          "Student",
          "Doctor",
          "Student",
          "Doctor",
          "Doctor",
          "Doctor",
          "Doctor",
          "Student",
          "Doctor",
          "Student",
          "Student",
          "Student",
          "Student",
          "Student",
          "Student",
          "Student",
          "Student",
          "Doctor",
          "Student",
          "Doctor",
          "Doctor",
          "Student",
          "Doctor",
          "Student",
          "Doctor",
          "Doctor",
          "Doctor",
          "Doctor",
          "Radiologist",
          "Doctor",
          "Doctor",
          "Student",
          "Student",
          "Doctor",
          "Technician",
          "Pathologist",
          "Student",
          "Pathologist",
          "Radiologist",
          "Student",
          "Student",
          "Student",
          "Student",
          "Student",
          "Student",
          "Student",
          "Doctor",
          "Student",
          "Doctor",
          "Student",
          "Student",
          "Doctor",
          "Student",
          "Student",
          "Student",
          "Student",
          "Student",
          "Student",
          "Student",
          "Student",
          "Student",
          "Student",
          "Student",
          "Student",
          "Student",
          "Student",
          "Doctor",
          "Student",
          "Student",
          "Student",
          "Student",
          "Student",
          "Student",
          "Student",
          "Student",
          "Student",
          "Student",
          "Student",
          "Student",
          "Student",
          "Student",
          "Student",
          "Pathologist",
          "Pathologist",
          "Doctor",
          "Student",
          "Student",
          "Student",
          "Student",
          "Student",
          "Doctor",
          "Student",
          "Doctor",
          "Doctor",
          "Doctor",
          "Doctor",
          "Student",
          "Student",
          "Student",
          "Doctor",
          "Student",
          "Student",
          "Student",
          "Technician",
          "Doctor",
          "Doctor",
          "Doctor",
          "Doctor",
          "Student",
          "Student",
          "Student",
          "Student",
          "Student",
          "Student",
          "Student",
          "Doctor",
          "Doctor",
          "Student",
          "Student",
          "Doctor",
          "Doctor",
          "Student",
          "Student",
          "Student",
          "Student",
          "Student",
          "Student",
          "Student",
          "Student",
          "Student",
          "Student",
          "Student",
          "Student",
          "Student",
          "Student",
          "Student",
          "Student",
          "Student",
          "Student",
          "Student",
          "Student",
          "Student",
          "Doctor",
          "Student",
          "Doctor",
          "Student",
          "Pathologist",
          "Doctor",
          "Doctor",
          "Student",
          "Student",
          "Student",
          "Student",
          "Student",
          "Student",
          "Student",
          "Student",
          "Student",
          "Student",
          "Doctor",
          "Student",
          "Doctor",
          "Radiologist",
          "Radiologist",
          "Radiologist",
          "Pathologist",
          "Pathologist",
          "Doctor",
          "Doctor",
          "Pathologist",
          "Pathologist",
          "Radiologist",
          "Technician",
          "Technician",
          "Pathologist",
          "Pathologist",
          "Radiologist",
          "Doctor",
          "Doctor",
          "Doctor",
          "Doctor",
          "Pathologist",
          "Doctor",
          "Student",
          "Pathologist",
          "Doctor",
          "Student",
          "Doctor",
          "Student",
          "Doctor",
          "Student",
          "Student",
          "Student",
          "Student",
          "Pathologist",
          "Technician",
          "Student",
          "Student",
          "Student",
          "Doctor",
          "Doctor",
          "Doctor",
          "Doctor",
          "Technician",
          "Pathologist",
          "Doctor",
          "Radiologist",
          "Technician",
          "Student",
          "Student",
          "Radiologist",
          "Technician",
          "Radiologist",
          "Student",
          "Student",
          "Pathologist",
          "Doctor",
          "Doctor",
          "Doctor",
          "Doctor",
          "Pathologist",
          "Doctor",
          "Doctor",
          "Doctor",
          "Pathologist",
          "Doctor",
          "Radiologist",
          "Radiologist",
          "Radiologist",
          "Doctor",
          "Pathologist",
          "Doctor",
          "Doctor",
          "Student",
          "Pathologist",
          "Student",
          "Pathologist",
          "Doctor",
          "Technician",
          "Radiologist",
          "Pathologist",
          "Student",
          "Pathologist",
          "Pathologist",
          "Student",
          "Pathologist",
          "Doctor",
          "Radiologist",
          "Pathologist",
          "Student",
          "Pathologist",
          "Doctor",
          "Student",
          "Doctor",
          "Doctor",
          "Student",
          "Technician",
          "Student",
          "Doctor",
          "Radiologist",
          "Doctor",
          "Student",
          "Student",
          "Technician",
          "Student",
          "Pathologist",
          "Student",
          "Student",
          "Technician",
          "Pathologist",
          "Radiologist",
          "Radiologist",
          "Radiologist",
          "Pathologist",
          "Pathologist",
          "Pathologist",
          "Doctor",
          "Technician",
          "Doctor",
          "Radiologist",
          "Doctor",
          "Doctor",
          "Student",
          "Student",
          "Student",
          "Student",
          "Student",
          "Student",
          "Pathologist",
          "Radiologist",
          "Doctor",
          "Radiologist",
          "Doctor",
          "Doctor",
          "Doctor",
          "Doctor",
          "Doctor",
          "Doctor",
          "Doctor",
          "Doctor",
          "Radiologist",
          "Radiologist",
          "Doctor",
          "Doctor",
          "Doctor",
          "Radiologist",
          "Radiologist",
          "Doctor",
          "Doctor",
          "Doctor",
          "Doctor",
          "Doctor",
          "Doctor",
          "Doctor",
          "Doctor",
          "Radiologist",
          "Doctor",
          "Doctor",
          "Pathologist",
          "Technician",
          "Doctor",
          "Doctor",
          "Doctor",
          "Doctor",
          "Doctor",
          "Radiologist",
          "Doctor",
          "Doctor",
          "Doctor",
          "Doctor",
          "Radiologist",
          "Doctor",
          "Doctor",
          "Radiologist",
          "Doctor",
          "Radiologist",
          "Technician",
          "Doctor",
          "Doctor",
          "Doctor",
          "Doctor",
          "Doctor",
          "Doctor",
          "Doctor",
          "Doctor",
          "Radiologist",
          "Doctor",
          "Doctor",
          "Doctor",
          "Doctor",
          "Doctor",
          "Doctor",
          "Doctor",
          "Doctor",
          "Radiologist",
          "Radiologist",
          "Doctor",
          "Doctor",
          "Doctor",
          "Radiologist",
          "Doctor",
          "Doctor",
          "Doctor",
          "Doctor",
          "Radiologist",
          "Doctor",
          "Doctor",
          "Doctor",
          "Doctor",
          "Radiologist",
          "Radiologist",
          "Doctor",
          "Doctor",
          "Doctor",
          "Doctor",
          "Doctor",
          "Doctor",
          "Doctor",
          "Doctor",
          "Doctor",
          "Doctor",
          "Student",
          "Student",
          "Student",
          "Student",
          "Student",
          "Student",
          "Student",
          "Student",
          "Student",
          "Student",
          "Student",
          "Student",
          "Student",
          "Student",
          "Student",
          "Student",
          "Student",
          "Student",
          "Student",
          "Student",
          "Student",
          "Student",
          "Student",
          "Student",
          "Student",
          "Student",
          "Student",
          "Student",
          "Student",
          "Student",
          "Student",
          "Student",
          "Student",
          "Student",
          "Student",
          "Student",
          "Student",
          "Student",
          "Student",
          "Student",
          "Student",
          "Student",
          "Student",
          "Student",
          "Student",
          "Student",
          "Student",
          "Student",
          "Student",
          "Student",
          "Student",
          "Student",
          "Student",
          "Student",
          "Student",
          "Student",
          "Student",
          "Student",
          "Doctor",
          "Doctor",
          "Doctor",
          "Radiologist",
          "Doctor",
          "Pathologist",
          "Technician",
          "Doctor",
          "Doctor",
          "Doctor",
          "Doctor",
          "Doctor",
          "Radiologist",
          "Doctor",
          "Doctor",
          "Doctor",
          "Doctor",
          "Radiologist",
          "Doctor",
          "Doctor",
          "Doctor",
          "Radiologist",
          "Doctor",
          "Radiologist",
          "Technician",
          "Doctor",
          "Doctor",
          "Doctor",
          "Doctor",
          "Doctor",
          "Doctor",
          "Doctor",
          "Doctor",
          "Radiologist",
          "Doctor",
          "Doctor",
          "Doctor",
          "Doctor",
          "Doctor",
          "Doctor",
          "Doctor",
          "Doctor",
          "Radiologist",
          "Radiologist",
          "Doctor",
          "Doctor",
          "Doctor",
          "Radiologist",
          "Doctor",
          "Doctor",
          "Doctor",
          "Doctor",
          "Radiologist",
          "Doctor",
          "Doctor",
          "Doctor",
          "Doctor",
          "Radiologist",
          "Radiologist",
          "Doctor",
          "Doctor",
          "Doctor",
          "Doctor",
          "Doctor",
          "Doctor",
          "Doctor",
          "Doctor",
          "Doctor",
          "Doctor"
         ],
         "y": [
          1.0833333333333333,
          1.2916666666666667,
          1.3333333333333333,
          1.4166666666666667,
          1.4166666666666667,
          1.5,
          1.5,
          1.4166666666666667,
          1.4583333333333333,
          1.2083333333333333,
          1.0833333333333333,
          1.2916666666666667,
          0.875,
          1.375,
          1.1666666666666667,
          1.5,
          0.8333333333333334,
          1.0833333333333333,
          1.0833333333333333,
          1.125,
          1.375,
          1.2083333333333333,
          1.125,
          1.0416666666666667,
          1.125,
          1.25,
          1.5416666666666665,
          1.5,
          1.3333333333333333,
          1.5833333333333335,
          1.625,
          1.4166666666666667,
          1,
          1.0833333333333333,
          1.0416666666666667,
          1,
          1.0833333333333333,
          0.9166666666666666,
          0.875,
          0.9583333333333334,
          0.75,
          0.8333333333333334,
          0.9166666666666666,
          0.7916666666666666,
          1.2083333333333333,
          1.1666666666666667,
          1.0833333333333333,
          1.125,
          0.9583333333333334,
          0.9166666666666666,
          1.0833333333333333,
          1.0833333333333333,
          0.8333333333333334,
          0.875,
          0.875,
          1.625,
          1.2083333333333333,
          1.0833333333333333,
          1.125,
          0.8333333333333334,
          1.0833333333333333,
          0.9583333333333334,
          1.125,
          1.25,
          1.125,
          1.2083333333333333,
          0.875,
          0.9583333333333334,
          1.2916666666666667,
          1.5833333333333335,
          1.375,
          1,
          1.3333333333333333,
          1.5416666666666665,
          0.7916666666666666,
          1.0416666666666667,
          1.3333333333333333,
          1.5,
          1.0416666666666667,
          1,
          0.7083333333333333,
          1.2916666666666667,
          1.0833333333333333,
          1.3333333333333333,
          1.125,
          1.3333333333333333,
          0.9583333333333334,
          1.0833333333333333,
          1.0833333333333333,
          1,
          1.3333333333333333,
          1.2916666666666667,
          1.0416666666666667,
          1.5833333333333335,
          0.8333333333333334,
          1.0833333333333333,
          1.125,
          1.375,
          1.375,
          1.3333333333333333,
          1.375,
          1.1666666666666667,
          0.9583333333333334,
          0.9583333333333334,
          1.125,
          1.1666666666666667,
          1.25,
          1.25,
          1.5,
          1.25,
          1.4166666666666667,
          1.6666666666666665,
          1.3333333333333333,
          1.2916666666666667,
          1.0833333333333333,
          1.25,
          1.3333333333333333,
          0.875,
          1.0416666666666667,
          1,
          1.125,
          1.2916666666666667,
          1.3333333333333333,
          0.9583333333333334,
          1.2916666666666667,
          1.2083333333333333,
          1,
          1.125,
          1.125,
          1.625,
          1.1666666666666667,
          1.0416666666666667,
          1.25,
          1.0416666666666667,
          1.0416666666666667,
          0.875,
          1.0416666666666667,
          1.625,
          1.5833333333333335,
          1.1666666666666667,
          1.25,
          1.625,
          1.2083333333333333,
          1.4166666666666667,
          1.4583333333333333,
          1.2083333333333333,
          1.375,
          1.1666666666666667,
          1.2083333333333333,
          1.375,
          1.25,
          1.2083333333333333,
          1.2916666666666667,
          1.4583333333333333,
          1.2083333333333333,
          1.2916666666666667,
          1.2916666666666667,
          1.5,
          1.3333333333333333,
          1.25,
          1.5,
          1.5833333333333335,
          0.6666666666666667,
          0.9583333333333334,
          1.25,
          1.4583333333333333,
          1.5,
          1.125,
          1.0416666666666667,
          1.0833333333333333,
          0.75,
          1.375,
          1.2083333333333333,
          0.875,
          1.1666666666666667,
          0.9583333333333334,
          1.4166666666666667,
          1.0833333333333333,
          1.25,
          0.8333333333333334,
          1.4166666666666667,
          0.7916666666666666,
          0.9583333333333334,
          1.25,
          0.9583333333333334,
          1.0416666666666667,
          1.0833333333333333,
          1.2916666666666667,
          0.9166666666666666,
          1,
          1,
          1.5833333333333335,
          1.5,
          0.9166666666666666,
          1.2083333333333333,
          1.25,
          1.125,
          0.8333333333333334,
          1.25,
          1.0833333333333333,
          0.9166666666666666,
          1.0833333333333333,
          1.25,
          1.0833333333333333,
          1.3333333333333333,
          0.9583333333333334,
          1.5,
          1.375,
          0.7916666666666666,
          1,
          1.4583333333333333,
          1.75,
          1.6666666666666665,
          1.0833333333333333,
          1.4583333333333333,
          1.5833333333333335,
          1.2916666666666667,
          1.375,
          1.4166666666666667,
          1.4166666666666667,
          1.375,
          1.375,
          1.2916666666666667,
          1.25,
          1.3333333333333333,
          1.4583333333333333,
          1.2916666666666667,
          1.3333333333333333,
          1.0416666666666667,
          0.9166666666666666,
          0.8333333333333334,
          0.9166666666666666,
          1,
          0.9583333333333334,
          1.3333333333333333,
          1.5833333333333335,
          0.8333333333333334,
          1.0416666666666667,
          1,
          1.125,
          0.7916666666666666,
          0.7916666666666666,
          1,
          1,
          0.875,
          1.1666666666666667,
          0.7083333333333333,
          0.7083333333333333,
          0.7916666666666666,
          1,
          0.75,
          1.4166666666666667,
          1.0833333333333333,
          0.9166666666666666,
          1.2916666666666667,
          1.0416666666666667,
          1.1666666666666667,
          0.7916666666666666,
          1.125,
          1.25,
          1,
          1.1666666666666667,
          0.9166666666666666,
          1.25,
          1.2916666666666667,
          1,
          0.7083333333333333,
          0.9583333333333334,
          1.0416666666666667,
          1,
          0.7916666666666666,
          0.9583333333333334,
          0.7916666666666666,
          0.7083333333333333,
          0.7083333333333333,
          0.9583333333333334,
          0.8333333333333334,
          0.9166666666666666,
          0.6666666666666667,
          1.0416666666666667,
          1.0833333333333333,
          0.9583333333333334,
          1,
          1.375,
          1.0416666666666667,
          0.9583333333333334,
          1,
          1.0416666666666667,
          0.875,
          1.0416666666666667,
          0.875,
          1.0416666666666667,
          0.9166666666666666,
          1.0416666666666667,
          0.7916666666666666,
          1,
          1.25,
          0.7083333333333333,
          1.125,
          1.125,
          1.2083333333333333,
          1.25,
          1.0833333333333333,
          0.45833333333333337,
          1.4166666666666667,
          1.2083333333333333,
          0.8333333333333334,
          1.1666666666666667,
          1.0416666666666667,
          1.125,
          0.25,
          1.1666666666666667,
          1.2083333333333333,
          1.0833333333333333,
          0.9583333333333334,
          1.0833333333333333,
          0.8333333333333334,
          0.9166666666666666,
          1.0833333333333333,
          1.0416666666666667,
          0.75,
          0.7916666666666666,
          0.7916666666666666,
          0.6666666666666667,
          0.8333333333333334,
          0.9583333333333334,
          0.75,
          0.8333333333333334,
          1.125,
          1.2083333333333333,
          1.2083333333333333,
          1.125,
          1.3333333333333333,
          1.25,
          1.1666666666666667,
          0.7916666666666666,
          0.9583333333333334,
          0.875,
          0.8333333333333334,
          0.8333333333333334,
          0.9583333333333334,
          0.7916666666666666,
          1.1666666666666667,
          0.9166666666666666,
          0.9166666666666666,
          0.8333333333333334,
          0.75,
          0.875,
          1.1666666666666667,
          0.7083333333333333,
          0.8333333333333334,
          1,
          0.7916666666666666,
          0.8333333333333334,
          0.875,
          0.7916666666666666,
          0.75,
          0.9583333333333334,
          0.7916666666666666,
          0.9583333333333334,
          0.8333333333333334,
          0.9583333333333334,
          1,
          0.875,
          0.8333333333333334,
          0.8333333333333334,
          0.8333333333333334,
          1,
          0.9583333333333334,
          0.875,
          0.8333333333333334,
          1.0416666666666667,
          0.7916666666666666,
          1.0833333333333333,
          1,
          0.7916666666666666,
          0.8333333333333334,
          0.7083333333333333,
          0.7916666666666666,
          0.75,
          1.0416666666666667,
          0.75,
          0.8333333333333334,
          1.1666666666666667,
          0.9583333333333334,
          1.0416666666666667,
          0.8333333333333334,
          0.875,
          0.8333333333333334,
          0.9166666666666666,
          1.0416666666666667,
          0.7916666666666666,
          0.9166666666666666,
          0.75,
          0.875,
          0.9166666666666666,
          1,
          1.125,
          0.9583333333333334,
          0.9166666666666666,
          0.875,
          0.9166666666666666,
          0.9583333333333334,
          0.875,
          0.7916666666666666,
          0.875,
          0.9583333333333334,
          1,
          0.875,
          0.875,
          0.6666666666666667,
          0.875,
          0.8333333333333334,
          0.875,
          0.875,
          0.9166666666666666,
          0.9166666666666666,
          0.7916666666666666,
          0.875,
          0.7916666666666666,
          0.9166666666666666,
          0.8333333333333334,
          0.7916666666666666,
          0.875,
          0.8333333333333334,
          0.7083333333333333,
          0.875,
          0.7916666666666666,
          1.2083333333333333,
          1.125,
          0.6666666666666667,
          1.3333333333333333,
          1.2083333333333333,
          1.625,
          1.2916666666666667,
          1.2916666666666667,
          1.2916666666666667,
          1.2916666666666667,
          1.3333333333333333,
          1.125,
          1.0416666666666667,
          1.0833333333333333,
          1.0416666666666667,
          1.0833333333333333,
          1.2083333333333333,
          1.0833333333333333,
          1.0833333333333333,
          1.125,
          1.25,
          1.2916666666666667,
          1.2083333333333333,
          1.0416666666666667,
          1.25,
          1.1666666666666667,
          1.2083333333333333,
          1.2083333333333333,
          0.9166666666666666,
          1.125,
          1.0833333333333333,
          0.875,
          0.5833333333333333,
          1.2083333333333333,
          1.2083333333333333,
          1.125,
          1.125,
          0.9166666666666666,
          1.125,
          1.0416666666666667,
          1.375,
          1.25,
          1.375,
          1.0833333333333333,
          1.0833333333333333,
          1.4583333333333333,
          1.5833333333333335,
          1.2083333333333333,
          1.1666666666666667,
          1.25,
          1.25,
          1.375,
          1.4166666666666667,
          1.3333333333333333,
          1.2916666666666667,
          1.0833333333333333,
          1.375,
          1.5,
          0.8333333333333334,
          0.8333333333333334,
          0.9583333333333334,
          1,
          0.8333333333333334,
          0.8333333333333334,
          0.8333333333333334,
          1,
          0.9583333333333334,
          0.875,
          0.8333333333333334,
          1.0416666666666667,
          0.7916666666666666,
          1.0833333333333333,
          1,
          0.7916666666666666,
          0.8333333333333334,
          0.7083333333333333,
          0.7916666666666666,
          0.75,
          0.9583333333333334,
          1.0416666666666667,
          0.75,
          0.8333333333333334,
          1.1666666666666667,
          0.9583333333333334,
          1.0416666666666667,
          0.8333333333333334,
          0.875,
          0.8333333333333334,
          0.9166666666666666,
          1.0416666666666667,
          0.7916666666666666,
          0.9166666666666666,
          0.75,
          0.875,
          0.9166666666666666,
          1,
          1.125,
          0.9583333333333334,
          0.9166666666666666,
          0.875,
          0.9166666666666666,
          0.9583333333333334,
          0.875,
          0.7916666666666666,
          0.875,
          0.9583333333333334,
          1,
          0.875,
          0.875,
          0.6666666666666667,
          0.875,
          0.8333333333333334,
          0.875,
          0.875,
          0.9166666666666666,
          0.9166666666666666,
          0.7916666666666666,
          0.875,
          0.7916666666666666,
          0.9166666666666666,
          0.8333333333333334,
          0.7916666666666666,
          0.875,
          0.8333333333333334,
          0.7083333333333333,
          0.875,
          0.75
         ]
        },
        {
         "box": {
          "visible": true
         },
         "fillcolor": "darkseagreen",
         "legendgroup": "Outside City",
         "line": {
          "color": "grey"
         },
         "meanline": {
          "visible": true
         },
         "name": "Outside City",
         "scalegroup": "Outside City",
         "type": "violin",
         "x": [
          "Student",
          "Student",
          "Student",
          "Student",
          "Student",
          "Student",
          "Doctor",
          "Student",
          "Student",
          "Student",
          "Student",
          "Student",
          "Student",
          "Student",
          "Student",
          "Student",
          "Doctor",
          "Doctor",
          "Doctor",
          "Doctor",
          "Doctor",
          "Doctor",
          "Doctor",
          "Doctor",
          "Doctor",
          "Doctor",
          "Student",
          "Student",
          "Doctor",
          "Student",
          "Technician",
          "Doctor",
          "Pathologist",
          "Doctor",
          "Doctor",
          "Doctor",
          "Doctor",
          "Doctor",
          "Doctor",
          "Doctor",
          "Doctor",
          "Doctor",
          "Doctor",
          "Student",
          "Doctor",
          "Student",
          "Student",
          "Student",
          "Student",
          "Doctor",
          "Doctor",
          "Student",
          "Student",
          "Student",
          "Technician",
          "Technician",
          "Pathologist",
          "Pathologist",
          "Doctor",
          "Student",
          "Student",
          "Doctor",
          "Doctor",
          "Doctor",
          "Doctor",
          "Doctor",
          "Student",
          "Student",
          "Student",
          "Student",
          "Student",
          "Student",
          "Student",
          "Pathologist",
          "Pathologist",
          "Radiologist",
          "Radiologist",
          "Pathologist",
          "Pathologist",
          "Pathologist",
          "Technician",
          "Pathologist",
          "Pathologist",
          "Technician",
          "Radiologist",
          "Pathologist",
          "Pathologist",
          "Radiologist",
          "Student",
          "Doctor",
          "Student",
          "Student",
          "Pathologist",
          "Student",
          "Radiologist",
          "Radiologist",
          "Pathologist",
          "Technician",
          "Doctor",
          "Doctor",
          "Doctor",
          "Doctor",
          "Doctor",
          "Doctor",
          "Pathologist",
          "Doctor",
          "Student",
          "Doctor",
          "Student",
          "Radiologist",
          "Doctor",
          "Doctor",
          "Doctor",
          "Doctor",
          "Doctor",
          "Doctor",
          "Doctor",
          "Radiologist",
          "Radiologist",
          "Radiologist",
          "Student",
          "Doctor",
          "Student",
          "Student",
          "Student",
          "Pathologist",
          "Student",
          "Student",
          "Pathologist",
          "Doctor",
          "Student",
          "Doctor",
          "Student",
          "Radiologist",
          "Radiologist",
          "Radiologist",
          "Technician",
          "Doctor",
          "Doctor",
          "Doctor",
          "Doctor",
          "Doctor",
          "Doctor",
          "Doctor",
          "Doctor",
          "Doctor"
         ],
         "y": [
          1.4583333333333333,
          0.8333333333333334,
          0.625,
          0.9583333333333334,
          1.0416666666666667,
          1.1666666666666667,
          1.1666666666666667,
          1,
          1.3333333333333333,
          1.2916666666666667,
          1.3333333333333333,
          1.625,
          1.0833333333333333,
          1.0416666666666667,
          1.0416666666666667,
          0.9583333333333334,
          1.0416666666666667,
          0.8333333333333334,
          0.75,
          0.75,
          1,
          0.7083333333333333,
          0.7916666666666666,
          0.7083333333333333,
          0.6666666666666667,
          0.7083333333333333,
          1.0416666666666667,
          1.0833333333333333,
          0.9166666666666666,
          1.25,
          1,
          1.1666666666666667,
          0.9583333333333334,
          0.9583333333333334,
          1,
          0.8333333333333334,
          0.7916666666666666,
          0.75,
          0.7083333333333333,
          0.75,
          1.625,
          1.4583333333333333,
          1.5833333333333335,
          0.75,
          1.25,
          1,
          1.3333333333333333,
          1,
          1.5,
          1.5833333333333335,
          1.25,
          1.1666666666666667,
          1.0833333333333333,
          1.2083333333333333,
          1.0833333333333333,
          1.3333333333333333,
          1.5,
          1.4166666666666667,
          1,
          0.9583333333333334,
          1,
          1.125,
          1.625,
          1.6666666666666665,
          0.8333333333333334,
          0.9583333333333334,
          1,
          0.875,
          1.0833333333333333,
          0.9166666666666666,
          1.0833333333333333,
          0.8333333333333334,
          0.9583333333333334,
          1.125,
          1.0416666666666667,
          1.5,
          1.375,
          1.125,
          1.2916666666666667,
          1.2916666666666667,
          1.0833333333333333,
          1.25,
          1,
          1,
          0.9166666666666666,
          1.2083333333333333,
          1.1666666666666667,
          1.0833333333333333,
          1.25,
          1.125,
          1.0416666666666667,
          0.9583333333333334,
          1.0833333333333333,
          0.75,
          0.9583333333333334,
          1.0833333333333333,
          1.0416666666666667,
          1.0833333333333333,
          1.5833333333333335,
          1.375,
          1.2916666666666667,
          1.2916666666666667,
          1.375,
          1.25,
          1.0416666666666667,
          0.9166666666666666,
          1.0833333333333333,
          1,
          1.0833333333333333,
          0.7083333333333333,
          0.9166666666666666,
          0.9166666666666666,
          0.75,
          0.875,
          0.875,
          0.875,
          0.75,
          0.7083333333333333,
          1,
          0.9583333333333334,
          0.8333333333333334,
          1.0416666666666667,
          1.125,
          1.2083333333333333,
          1.0833333333333333,
          0.9166666666666666,
          1.3333333333333333,
          1.1666666666666667,
          0.9583333333333334,
          1.1666666666666667,
          1.0833333333333333,
          1.25,
          1,
          0.9166666666666666,
          0.9166666666666666,
          0.8333333333333334,
          0.8333333333333334,
          1.125,
          0.9166666666666666,
          0.9583333333333334,
          0.9583333333333334,
          0.8333333333333334,
          0.875,
          0.9166666666666666,
          0.9583333333333334,
          0.8333333333333334
         ]
        }
       ],
       "layout": {
        "autosize": false,
        "height": 500,
        "template": {
         "data": {
          "bar": [
           {
            "error_x": {
             "color": "#2a3f5f"
            },
            "error_y": {
             "color": "#2a3f5f"
            },
            "marker": {
             "line": {
              "color": "#E5ECF6",
              "width": 0.5
             },
             "pattern": {
              "fillmode": "overlay",
              "size": 10,
              "solidity": 0.2
             }
            },
            "type": "bar"
           }
          ],
          "barpolar": [
           {
            "marker": {
             "line": {
              "color": "#E5ECF6",
              "width": 0.5
             },
             "pattern": {
              "fillmode": "overlay",
              "size": 10,
              "solidity": 0.2
             }
            },
            "type": "barpolar"
           }
          ],
          "carpet": [
           {
            "aaxis": {
             "endlinecolor": "#2a3f5f",
             "gridcolor": "white",
             "linecolor": "white",
             "minorgridcolor": "white",
             "startlinecolor": "#2a3f5f"
            },
            "baxis": {
             "endlinecolor": "#2a3f5f",
             "gridcolor": "white",
             "linecolor": "white",
             "minorgridcolor": "white",
             "startlinecolor": "#2a3f5f"
            },
            "type": "carpet"
           }
          ],
          "choropleth": [
           {
            "colorbar": {
             "outlinewidth": 0,
             "ticks": ""
            },
            "type": "choropleth"
           }
          ],
          "contour": [
           {
            "colorbar": {
             "outlinewidth": 0,
             "ticks": ""
            },
            "colorscale": [
             [
              0,
              "#0d0887"
             ],
             [
              0.1111111111111111,
              "#46039f"
             ],
             [
              0.2222222222222222,
              "#7201a8"
             ],
             [
              0.3333333333333333,
              "#9c179e"
             ],
             [
              0.4444444444444444,
              "#bd3786"
             ],
             [
              0.5555555555555556,
              "#d8576b"
             ],
             [
              0.6666666666666666,
              "#ed7953"
             ],
             [
              0.7777777777777778,
              "#fb9f3a"
             ],
             [
              0.8888888888888888,
              "#fdca26"
             ],
             [
              1,
              "#f0f921"
             ]
            ],
            "type": "contour"
           }
          ],
          "contourcarpet": [
           {
            "colorbar": {
             "outlinewidth": 0,
             "ticks": ""
            },
            "type": "contourcarpet"
           }
          ],
          "heatmap": [
           {
            "colorbar": {
             "outlinewidth": 0,
             "ticks": ""
            },
            "colorscale": [
             [
              0,
              "#0d0887"
             ],
             [
              0.1111111111111111,
              "#46039f"
             ],
             [
              0.2222222222222222,
              "#7201a8"
             ],
             [
              0.3333333333333333,
              "#9c179e"
             ],
             [
              0.4444444444444444,
              "#bd3786"
             ],
             [
              0.5555555555555556,
              "#d8576b"
             ],
             [
              0.6666666666666666,
              "#ed7953"
             ],
             [
              0.7777777777777778,
              "#fb9f3a"
             ],
             [
              0.8888888888888888,
              "#fdca26"
             ],
             [
              1,
              "#f0f921"
             ]
            ],
            "type": "heatmap"
           }
          ],
          "heatmapgl": [
           {
            "colorbar": {
             "outlinewidth": 0,
             "ticks": ""
            },
            "colorscale": [
             [
              0,
              "#0d0887"
             ],
             [
              0.1111111111111111,
              "#46039f"
             ],
             [
              0.2222222222222222,
              "#7201a8"
             ],
             [
              0.3333333333333333,
              "#9c179e"
             ],
             [
              0.4444444444444444,
              "#bd3786"
             ],
             [
              0.5555555555555556,
              "#d8576b"
             ],
             [
              0.6666666666666666,
              "#ed7953"
             ],
             [
              0.7777777777777778,
              "#fb9f3a"
             ],
             [
              0.8888888888888888,
              "#fdca26"
             ],
             [
              1,
              "#f0f921"
             ]
            ],
            "type": "heatmapgl"
           }
          ],
          "histogram": [
           {
            "marker": {
             "pattern": {
              "fillmode": "overlay",
              "size": 10,
              "solidity": 0.2
             }
            },
            "type": "histogram"
           }
          ],
          "histogram2d": [
           {
            "colorbar": {
             "outlinewidth": 0,
             "ticks": ""
            },
            "colorscale": [
             [
              0,
              "#0d0887"
             ],
             [
              0.1111111111111111,
              "#46039f"
             ],
             [
              0.2222222222222222,
              "#7201a8"
             ],
             [
              0.3333333333333333,
              "#9c179e"
             ],
             [
              0.4444444444444444,
              "#bd3786"
             ],
             [
              0.5555555555555556,
              "#d8576b"
             ],
             [
              0.6666666666666666,
              "#ed7953"
             ],
             [
              0.7777777777777778,
              "#fb9f3a"
             ],
             [
              0.8888888888888888,
              "#fdca26"
             ],
             [
              1,
              "#f0f921"
             ]
            ],
            "type": "histogram2d"
           }
          ],
          "histogram2dcontour": [
           {
            "colorbar": {
             "outlinewidth": 0,
             "ticks": ""
            },
            "colorscale": [
             [
              0,
              "#0d0887"
             ],
             [
              0.1111111111111111,
              "#46039f"
             ],
             [
              0.2222222222222222,
              "#7201a8"
             ],
             [
              0.3333333333333333,
              "#9c179e"
             ],
             [
              0.4444444444444444,
              "#bd3786"
             ],
             [
              0.5555555555555556,
              "#d8576b"
             ],
             [
              0.6666666666666666,
              "#ed7953"
             ],
             [
              0.7777777777777778,
              "#fb9f3a"
             ],
             [
              0.8888888888888888,
              "#fdca26"
             ],
             [
              1,
              "#f0f921"
             ]
            ],
            "type": "histogram2dcontour"
           }
          ],
          "mesh3d": [
           {
            "colorbar": {
             "outlinewidth": 0,
             "ticks": ""
            },
            "type": "mesh3d"
           }
          ],
          "parcoords": [
           {
            "line": {
             "colorbar": {
              "outlinewidth": 0,
              "ticks": ""
             }
            },
            "type": "parcoords"
           }
          ],
          "pie": [
           {
            "automargin": true,
            "type": "pie"
           }
          ],
          "scatter": [
           {
            "fillpattern": {
             "fillmode": "overlay",
             "size": 10,
             "solidity": 0.2
            },
            "type": "scatter"
           }
          ],
          "scatter3d": [
           {
            "line": {
             "colorbar": {
              "outlinewidth": 0,
              "ticks": ""
             }
            },
            "marker": {
             "colorbar": {
              "outlinewidth": 0,
              "ticks": ""
             }
            },
            "type": "scatter3d"
           }
          ],
          "scattercarpet": [
           {
            "marker": {
             "colorbar": {
              "outlinewidth": 0,
              "ticks": ""
             }
            },
            "type": "scattercarpet"
           }
          ],
          "scattergeo": [
           {
            "marker": {
             "colorbar": {
              "outlinewidth": 0,
              "ticks": ""
             }
            },
            "type": "scattergeo"
           }
          ],
          "scattergl": [
           {
            "marker": {
             "colorbar": {
              "outlinewidth": 0,
              "ticks": ""
             }
            },
            "type": "scattergl"
           }
          ],
          "scattermapbox": [
           {
            "marker": {
             "colorbar": {
              "outlinewidth": 0,
              "ticks": ""
             }
            },
            "type": "scattermapbox"
           }
          ],
          "scatterpolar": [
           {
            "marker": {
             "colorbar": {
              "outlinewidth": 0,
              "ticks": ""
             }
            },
            "type": "scatterpolar"
           }
          ],
          "scatterpolargl": [
           {
            "marker": {
             "colorbar": {
              "outlinewidth": 0,
              "ticks": ""
             }
            },
            "type": "scatterpolargl"
           }
          ],
          "scatterternary": [
           {
            "marker": {
             "colorbar": {
              "outlinewidth": 0,
              "ticks": ""
             }
            },
            "type": "scatterternary"
           }
          ],
          "surface": [
           {
            "colorbar": {
             "outlinewidth": 0,
             "ticks": ""
            },
            "colorscale": [
             [
              0,
              "#0d0887"
             ],
             [
              0.1111111111111111,
              "#46039f"
             ],
             [
              0.2222222222222222,
              "#7201a8"
             ],
             [
              0.3333333333333333,
              "#9c179e"
             ],
             [
              0.4444444444444444,
              "#bd3786"
             ],
             [
              0.5555555555555556,
              "#d8576b"
             ],
             [
              0.6666666666666666,
              "#ed7953"
             ],
             [
              0.7777777777777778,
              "#fb9f3a"
             ],
             [
              0.8888888888888888,
              "#fdca26"
             ],
             [
              1,
              "#f0f921"
             ]
            ],
            "type": "surface"
           }
          ],
          "table": [
           {
            "cells": {
             "fill": {
              "color": "#EBF0F8"
             },
             "line": {
              "color": "white"
             }
            },
            "header": {
             "fill": {
              "color": "#C8D4E3"
             },
             "line": {
              "color": "white"
             }
            },
            "type": "table"
           }
          ]
         },
         "layout": {
          "annotationdefaults": {
           "arrowcolor": "#2a3f5f",
           "arrowhead": 0,
           "arrowwidth": 1
          },
          "autotypenumbers": "strict",
          "coloraxis": {
           "colorbar": {
            "outlinewidth": 0,
            "ticks": ""
           }
          },
          "colorscale": {
           "diverging": [
            [
             0,
             "#8e0152"
            ],
            [
             0.1,
             "#c51b7d"
            ],
            [
             0.2,
             "#de77ae"
            ],
            [
             0.3,
             "#f1b6da"
            ],
            [
             0.4,
             "#fde0ef"
            ],
            [
             0.5,
             "#f7f7f7"
            ],
            [
             0.6,
             "#e6f5d0"
            ],
            [
             0.7,
             "#b8e186"
            ],
            [
             0.8,
             "#7fbc41"
            ],
            [
             0.9,
             "#4d9221"
            ],
            [
             1,
             "#276419"
            ]
           ],
           "sequential": [
            [
             0,
             "#0d0887"
            ],
            [
             0.1111111111111111,
             "#46039f"
            ],
            [
             0.2222222222222222,
             "#7201a8"
            ],
            [
             0.3333333333333333,
             "#9c179e"
            ],
            [
             0.4444444444444444,
             "#bd3786"
            ],
            [
             0.5555555555555556,
             "#d8576b"
            ],
            [
             0.6666666666666666,
             "#ed7953"
            ],
            [
             0.7777777777777778,
             "#fb9f3a"
            ],
            [
             0.8888888888888888,
             "#fdca26"
            ],
            [
             1,
             "#f0f921"
            ]
           ],
           "sequentialminus": [
            [
             0,
             "#0d0887"
            ],
            [
             0.1111111111111111,
             "#46039f"
            ],
            [
             0.2222222222222222,
             "#7201a8"
            ],
            [
             0.3333333333333333,
             "#9c179e"
            ],
            [
             0.4444444444444444,
             "#bd3786"
            ],
            [
             0.5555555555555556,
             "#d8576b"
            ],
            [
             0.6666666666666666,
             "#ed7953"
            ],
            [
             0.7777777777777778,
             "#fb9f3a"
            ],
            [
             0.8888888888888888,
             "#fdca26"
            ],
            [
             1,
             "#f0f921"
            ]
           ]
          },
          "colorway": [
           "#636efa",
           "#EF553B",
           "#00cc96",
           "#ab63fa",
           "#FFA15A",
           "#19d3f3",
           "#FF6692",
           "#B6E880",
           "#FF97FF",
           "#FECB52"
          ],
          "font": {
           "color": "#2a3f5f"
          },
          "geo": {
           "bgcolor": "white",
           "lakecolor": "white",
           "landcolor": "#E5ECF6",
           "showlakes": true,
           "showland": true,
           "subunitcolor": "white"
          },
          "hoverlabel": {
           "align": "left"
          },
          "hovermode": "closest",
          "mapbox": {
           "style": "light"
          },
          "paper_bgcolor": "white",
          "plot_bgcolor": "#E5ECF6",
          "polar": {
           "angularaxis": {
            "gridcolor": "white",
            "linecolor": "white",
            "ticks": ""
           },
           "bgcolor": "#E5ECF6",
           "radialaxis": {
            "gridcolor": "white",
            "linecolor": "white",
            "ticks": ""
           }
          },
          "scene": {
           "xaxis": {
            "backgroundcolor": "#E5ECF6",
            "gridcolor": "white",
            "gridwidth": 2,
            "linecolor": "white",
            "showbackground": true,
            "ticks": "",
            "zerolinecolor": "white"
           },
           "yaxis": {
            "backgroundcolor": "#E5ECF6",
            "gridcolor": "white",
            "gridwidth": 2,
            "linecolor": "white",
            "showbackground": true,
            "ticks": "",
            "zerolinecolor": "white"
           },
           "zaxis": {
            "backgroundcolor": "#E5ECF6",
            "gridcolor": "white",
            "gridwidth": 2,
            "linecolor": "white",
            "showbackground": true,
            "ticks": "",
            "zerolinecolor": "white"
           }
          },
          "shapedefaults": {
           "line": {
            "color": "#2a3f5f"
           }
          },
          "ternary": {
           "aaxis": {
            "gridcolor": "white",
            "linecolor": "white",
            "ticks": ""
           },
           "baxis": {
            "gridcolor": "white",
            "linecolor": "white",
            "ticks": ""
           },
           "bgcolor": "#E5ECF6",
           "caxis": {
            "gridcolor": "white",
            "linecolor": "white",
            "ticks": ""
           }
          },
          "title": {
           "x": 0.05
          },
          "xaxis": {
           "automargin": true,
           "gridcolor": "white",
           "linecolor": "white",
           "ticks": "",
           "title": {
            "standoff": 15
           },
           "zerolinecolor": "white",
           "zerolinewidth": 2
          },
          "yaxis": {
           "automargin": true,
           "gridcolor": "white",
           "linecolor": "white",
           "ticks": "",
           "title": {
            "standoff": 15
           },
           "zerolinecolor": "white",
           "zerolinewidth": 2
          }
         }
        },
        "violinmode": "group",
        "width": 800
       }
      },
      "text/html": [
       "<div>                            <div id=\"2fe559cc-ba58-4430-9129-0da9b983a602\" class=\"plotly-graph-div\" style=\"height:500px; width:800px;\"></div>            <script type=\"text/javascript\">                require([\"plotly\"], function(Plotly) {                    window.PLOTLYENV=window.PLOTLYENV || {};                                    if (document.getElementById(\"2fe559cc-ba58-4430-9129-0da9b983a602\")) {                    Plotly.newPlot(                        \"2fe559cc-ba58-4430-9129-0da9b983a602\",                        [{\"box\":{\"visible\":true},\"fillcolor\":\"gold\",\"legendgroup\":\"Inside City\",\"line\":{\"color\":\"grey\"},\"meanline\":{\"visible\":true},\"name\":\"Inside City\",\"scalegroup\":\"Inside City\",\"x\":[\"Doctor\",\"Doctor\",\"Doctor\",\"Doctor\",\"Doctor\",\"Doctor\",\"Student\",\"Student\",\"Student\",\"Doctor\",\"Doctor\",\"Student\",\"Student\",\"Doctor\",\"Doctor\",\"Student\",\"Doctor\",\"Student\",\"Student\",\"Student\",\"Student\",\"Student\",\"Student\",\"Student\",\"Student\",\"Student\",\"Student\",\"Student\",\"Student\",\"Doctor\",\"Pathologist\",\"Radiologist\",\"Student\",\"Doctor\",\"Doctor\",\"Student\",\"Doctor\",\"Doctor\",\"Doctor\",\"Doctor\",\"Doctor\",\"Doctor\",\"Doctor\",\"Doctor\",\"Student\",\"Student\",\"Student\",\"Student\",\"Doctor\",\"Student\",\"Doctor\",\"Doctor\",\"Doctor\",\"Doctor\",\"Student\",\"Doctor\",\"Student\",\"Student\",\"Student\",\"Student\",\"Student\",\"Student\",\"Student\",\"Student\",\"Doctor\",\"Student\",\"Doctor\",\"Doctor\",\"Student\",\"Doctor\",\"Student\",\"Doctor\",\"Doctor\",\"Doctor\",\"Doctor\",\"Radiologist\",\"Doctor\",\"Doctor\",\"Student\",\"Student\",\"Doctor\",\"Technician\",\"Pathologist\",\"Student\",\"Pathologist\",\"Radiologist\",\"Student\",\"Student\",\"Student\",\"Student\",\"Student\",\"Student\",\"Student\",\"Doctor\",\"Student\",\"Doctor\",\"Student\",\"Student\",\"Doctor\",\"Student\",\"Student\",\"Student\",\"Student\",\"Student\",\"Student\",\"Student\",\"Student\",\"Student\",\"Student\",\"Student\",\"Student\",\"Student\",\"Student\",\"Doctor\",\"Student\",\"Student\",\"Student\",\"Student\",\"Student\",\"Student\",\"Student\",\"Student\",\"Student\",\"Student\",\"Student\",\"Student\",\"Student\",\"Student\",\"Student\",\"Pathologist\",\"Pathologist\",\"Doctor\",\"Student\",\"Student\",\"Student\",\"Student\",\"Student\",\"Doctor\",\"Student\",\"Doctor\",\"Doctor\",\"Doctor\",\"Doctor\",\"Student\",\"Student\",\"Student\",\"Doctor\",\"Student\",\"Student\",\"Student\",\"Technician\",\"Doctor\",\"Doctor\",\"Doctor\",\"Doctor\",\"Student\",\"Student\",\"Student\",\"Student\",\"Student\",\"Student\",\"Student\",\"Doctor\",\"Doctor\",\"Student\",\"Student\",\"Doctor\",\"Doctor\",\"Student\",\"Student\",\"Student\",\"Student\",\"Student\",\"Student\",\"Student\",\"Student\",\"Student\",\"Student\",\"Student\",\"Student\",\"Student\",\"Student\",\"Student\",\"Student\",\"Student\",\"Student\",\"Student\",\"Student\",\"Student\",\"Doctor\",\"Student\",\"Doctor\",\"Student\",\"Pathologist\",\"Doctor\",\"Doctor\",\"Student\",\"Student\",\"Student\",\"Student\",\"Student\",\"Student\",\"Student\",\"Student\",\"Student\",\"Student\",\"Doctor\",\"Student\",\"Doctor\",\"Radiologist\",\"Radiologist\",\"Radiologist\",\"Pathologist\",\"Pathologist\",\"Doctor\",\"Doctor\",\"Pathologist\",\"Pathologist\",\"Radiologist\",\"Technician\",\"Technician\",\"Pathologist\",\"Pathologist\",\"Radiologist\",\"Doctor\",\"Doctor\",\"Doctor\",\"Doctor\",\"Pathologist\",\"Doctor\",\"Student\",\"Pathologist\",\"Doctor\",\"Student\",\"Doctor\",\"Student\",\"Doctor\",\"Student\",\"Student\",\"Student\",\"Student\",\"Pathologist\",\"Technician\",\"Student\",\"Student\",\"Student\",\"Doctor\",\"Doctor\",\"Doctor\",\"Doctor\",\"Technician\",\"Pathologist\",\"Doctor\",\"Radiologist\",\"Technician\",\"Student\",\"Student\",\"Radiologist\",\"Technician\",\"Radiologist\",\"Student\",\"Student\",\"Pathologist\",\"Doctor\",\"Doctor\",\"Doctor\",\"Doctor\",\"Pathologist\",\"Doctor\",\"Doctor\",\"Doctor\",\"Pathologist\",\"Doctor\",\"Radiologist\",\"Radiologist\",\"Radiologist\",\"Doctor\",\"Pathologist\",\"Doctor\",\"Doctor\",\"Student\",\"Pathologist\",\"Student\",\"Pathologist\",\"Doctor\",\"Technician\",\"Radiologist\",\"Pathologist\",\"Student\",\"Pathologist\",\"Pathologist\",\"Student\",\"Pathologist\",\"Doctor\",\"Radiologist\",\"Pathologist\",\"Student\",\"Pathologist\",\"Doctor\",\"Student\",\"Doctor\",\"Doctor\",\"Student\",\"Technician\",\"Student\",\"Doctor\",\"Radiologist\",\"Doctor\",\"Student\",\"Student\",\"Technician\",\"Student\",\"Pathologist\",\"Student\",\"Student\",\"Technician\",\"Pathologist\",\"Radiologist\",\"Radiologist\",\"Radiologist\",\"Pathologist\",\"Pathologist\",\"Pathologist\",\"Doctor\",\"Technician\",\"Doctor\",\"Radiologist\",\"Doctor\",\"Doctor\",\"Student\",\"Student\",\"Student\",\"Student\",\"Student\",\"Student\",\"Pathologist\",\"Radiologist\",\"Doctor\",\"Radiologist\",\"Doctor\",\"Doctor\",\"Doctor\",\"Doctor\",\"Doctor\",\"Doctor\",\"Doctor\",\"Doctor\",\"Radiologist\",\"Radiologist\",\"Doctor\",\"Doctor\",\"Doctor\",\"Radiologist\",\"Radiologist\",\"Doctor\",\"Doctor\",\"Doctor\",\"Doctor\",\"Doctor\",\"Doctor\",\"Doctor\",\"Doctor\",\"Radiologist\",\"Doctor\",\"Doctor\",\"Pathologist\",\"Technician\",\"Doctor\",\"Doctor\",\"Doctor\",\"Doctor\",\"Doctor\",\"Radiologist\",\"Doctor\",\"Doctor\",\"Doctor\",\"Doctor\",\"Radiologist\",\"Doctor\",\"Doctor\",\"Radiologist\",\"Doctor\",\"Radiologist\",\"Technician\",\"Doctor\",\"Doctor\",\"Doctor\",\"Doctor\",\"Doctor\",\"Doctor\",\"Doctor\",\"Doctor\",\"Radiologist\",\"Doctor\",\"Doctor\",\"Doctor\",\"Doctor\",\"Doctor\",\"Doctor\",\"Doctor\",\"Doctor\",\"Radiologist\",\"Radiologist\",\"Doctor\",\"Doctor\",\"Doctor\",\"Radiologist\",\"Doctor\",\"Doctor\",\"Doctor\",\"Doctor\",\"Radiologist\",\"Doctor\",\"Doctor\",\"Doctor\",\"Doctor\",\"Radiologist\",\"Radiologist\",\"Doctor\",\"Doctor\",\"Doctor\",\"Doctor\",\"Doctor\",\"Doctor\",\"Doctor\",\"Doctor\",\"Doctor\",\"Doctor\",\"Student\",\"Student\",\"Student\",\"Student\",\"Student\",\"Student\",\"Student\",\"Student\",\"Student\",\"Student\",\"Student\",\"Student\",\"Student\",\"Student\",\"Student\",\"Student\",\"Student\",\"Student\",\"Student\",\"Student\",\"Student\",\"Student\",\"Student\",\"Student\",\"Student\",\"Student\",\"Student\",\"Student\",\"Student\",\"Student\",\"Student\",\"Student\",\"Student\",\"Student\",\"Student\",\"Student\",\"Student\",\"Student\",\"Student\",\"Student\",\"Student\",\"Student\",\"Student\",\"Student\",\"Student\",\"Student\",\"Student\",\"Student\",\"Student\",\"Student\",\"Student\",\"Student\",\"Student\",\"Student\",\"Student\",\"Student\",\"Student\",\"Student\",\"Doctor\",\"Doctor\",\"Doctor\",\"Radiologist\",\"Doctor\",\"Pathologist\",\"Technician\",\"Doctor\",\"Doctor\",\"Doctor\",\"Doctor\",\"Doctor\",\"Radiologist\",\"Doctor\",\"Doctor\",\"Doctor\",\"Doctor\",\"Radiologist\",\"Doctor\",\"Doctor\",\"Doctor\",\"Radiologist\",\"Doctor\",\"Radiologist\",\"Technician\",\"Doctor\",\"Doctor\",\"Doctor\",\"Doctor\",\"Doctor\",\"Doctor\",\"Doctor\",\"Doctor\",\"Radiologist\",\"Doctor\",\"Doctor\",\"Doctor\",\"Doctor\",\"Doctor\",\"Doctor\",\"Doctor\",\"Doctor\",\"Radiologist\",\"Radiologist\",\"Doctor\",\"Doctor\",\"Doctor\",\"Radiologist\",\"Doctor\",\"Doctor\",\"Doctor\",\"Doctor\",\"Radiologist\",\"Doctor\",\"Doctor\",\"Doctor\",\"Doctor\",\"Radiologist\",\"Radiologist\",\"Doctor\",\"Doctor\",\"Doctor\",\"Doctor\",\"Doctor\",\"Doctor\",\"Doctor\",\"Doctor\",\"Doctor\",\"Doctor\"],\"y\":[1.0833333333333333,1.2916666666666667,1.3333333333333333,1.4166666666666667,1.4166666666666667,1.5,1.5,1.4166666666666667,1.4583333333333333,1.2083333333333333,1.0833333333333333,1.2916666666666667,0.875,1.375,1.1666666666666667,1.5,0.8333333333333334,1.0833333333333333,1.0833333333333333,1.125,1.375,1.2083333333333333,1.125,1.0416666666666667,1.125,1.25,1.5416666666666665,1.5,1.3333333333333333,1.5833333333333335,1.625,1.4166666666666667,1.0,1.0833333333333333,1.0416666666666667,1.0,1.0833333333333333,0.9166666666666666,0.875,0.9583333333333334,0.75,0.8333333333333334,0.9166666666666666,0.7916666666666666,1.2083333333333333,1.1666666666666667,1.0833333333333333,1.125,0.9583333333333334,0.9166666666666666,1.0833333333333333,1.0833333333333333,0.8333333333333334,0.875,0.875,1.625,1.2083333333333333,1.0833333333333333,1.125,0.8333333333333334,1.0833333333333333,0.9583333333333334,1.125,1.25,1.125,1.2083333333333333,0.875,0.9583333333333334,1.2916666666666667,1.5833333333333335,1.375,1.0,1.3333333333333333,1.5416666666666665,0.7916666666666666,1.0416666666666667,1.3333333333333333,1.5,1.0416666666666667,1.0,0.7083333333333333,1.2916666666666667,1.0833333333333333,1.3333333333333333,1.125,1.3333333333333333,0.9583333333333334,1.0833333333333333,1.0833333333333333,1.0,1.3333333333333333,1.2916666666666667,1.0416666666666667,1.5833333333333335,0.8333333333333334,1.0833333333333333,1.125,1.375,1.375,1.3333333333333333,1.375,1.1666666666666667,0.9583333333333334,0.9583333333333334,1.125,1.1666666666666667,1.25,1.25,1.5,1.25,1.4166666666666667,1.6666666666666665,1.3333333333333333,1.2916666666666667,1.0833333333333333,1.25,1.3333333333333333,0.875,1.0416666666666667,1.0,1.125,1.2916666666666667,1.3333333333333333,0.9583333333333334,1.2916666666666667,1.2083333333333333,1.0,1.125,1.125,1.625,1.1666666666666667,1.0416666666666667,1.25,1.0416666666666667,1.0416666666666667,0.875,1.0416666666666667,1.625,1.5833333333333335,1.1666666666666667,1.25,1.625,1.2083333333333333,1.4166666666666667,1.4583333333333333,1.2083333333333333,1.375,1.1666666666666667,1.2083333333333333,1.375,1.25,1.2083333333333333,1.2916666666666667,1.4583333333333333,1.2083333333333333,1.2916666666666667,1.2916666666666667,1.5,1.3333333333333333,1.25,1.5,1.5833333333333335,0.6666666666666667,0.9583333333333334,1.25,1.4583333333333333,1.5,1.125,1.0416666666666667,1.0833333333333333,0.75,1.375,1.2083333333333333,0.875,1.1666666666666667,0.9583333333333334,1.4166666666666667,1.0833333333333333,1.25,0.8333333333333334,1.4166666666666667,0.7916666666666666,0.9583333333333334,1.25,0.9583333333333334,1.0416666666666667,1.0833333333333333,1.2916666666666667,0.9166666666666666,1.0,1.0,1.5833333333333335,1.5,0.9166666666666666,1.2083333333333333,1.25,1.125,0.8333333333333334,1.25,1.0833333333333333,0.9166666666666666,1.0833333333333333,1.25,1.0833333333333333,1.3333333333333333,0.9583333333333334,1.5,1.375,0.7916666666666666,1.0,1.4583333333333333,1.75,1.6666666666666665,1.0833333333333333,1.4583333333333333,1.5833333333333335,1.2916666666666667,1.375,1.4166666666666667,1.4166666666666667,1.375,1.375,1.2916666666666667,1.25,1.3333333333333333,1.4583333333333333,1.2916666666666667,1.3333333333333333,1.0416666666666667,0.9166666666666666,0.8333333333333334,0.9166666666666666,1.0,0.9583333333333334,1.3333333333333333,1.5833333333333335,0.8333333333333334,1.0416666666666667,1.0,1.125,0.7916666666666666,0.7916666666666666,1.0,1.0,0.875,1.1666666666666667,0.7083333333333333,0.7083333333333333,0.7916666666666666,1.0,0.75,1.4166666666666667,1.0833333333333333,0.9166666666666666,1.2916666666666667,1.0416666666666667,1.1666666666666667,0.7916666666666666,1.125,1.25,1.0,1.1666666666666667,0.9166666666666666,1.25,1.2916666666666667,1.0,0.7083333333333333,0.9583333333333334,1.0416666666666667,1.0,0.7916666666666666,0.9583333333333334,0.7916666666666666,0.7083333333333333,0.7083333333333333,0.9583333333333334,0.8333333333333334,0.9166666666666666,0.6666666666666667,1.0416666666666667,1.0833333333333333,0.9583333333333334,1.0,1.375,1.0416666666666667,0.9583333333333334,1.0,1.0416666666666667,0.875,1.0416666666666667,0.875,1.0416666666666667,0.9166666666666666,1.0416666666666667,0.7916666666666666,1.0,1.25,0.7083333333333333,1.125,1.125,1.2083333333333333,1.25,1.0833333333333333,0.45833333333333337,1.4166666666666667,1.2083333333333333,0.8333333333333334,1.1666666666666667,1.0416666666666667,1.125,0.25,1.1666666666666667,1.2083333333333333,1.0833333333333333,0.9583333333333334,1.0833333333333333,0.8333333333333334,0.9166666666666666,1.0833333333333333,1.0416666666666667,0.75,0.7916666666666666,0.7916666666666666,0.6666666666666667,0.8333333333333334,0.9583333333333334,0.75,0.8333333333333334,1.125,1.2083333333333333,1.2083333333333333,1.125,1.3333333333333333,1.25,1.1666666666666667,0.7916666666666666,0.9583333333333334,0.875,0.8333333333333334,0.8333333333333334,0.9583333333333334,0.7916666666666666,1.1666666666666667,0.9166666666666666,0.9166666666666666,0.8333333333333334,0.75,0.875,1.1666666666666667,0.7083333333333333,0.8333333333333334,1.0,0.7916666666666666,0.8333333333333334,0.875,0.7916666666666666,0.75,0.9583333333333334,0.7916666666666666,0.9583333333333334,0.8333333333333334,0.9583333333333334,1.0,0.875,0.8333333333333334,0.8333333333333334,0.8333333333333334,1.0,0.9583333333333334,0.875,0.8333333333333334,1.0416666666666667,0.7916666666666666,1.0833333333333333,1.0,0.7916666666666666,0.8333333333333334,0.7083333333333333,0.7916666666666666,0.75,1.0416666666666667,0.75,0.8333333333333334,1.1666666666666667,0.9583333333333334,1.0416666666666667,0.8333333333333334,0.875,0.8333333333333334,0.9166666666666666,1.0416666666666667,0.7916666666666666,0.9166666666666666,0.75,0.875,0.9166666666666666,1.0,1.125,0.9583333333333334,0.9166666666666666,0.875,0.9166666666666666,0.9583333333333334,0.875,0.7916666666666666,0.875,0.9583333333333334,1.0,0.875,0.875,0.6666666666666667,0.875,0.8333333333333334,0.875,0.875,0.9166666666666666,0.9166666666666666,0.7916666666666666,0.875,0.7916666666666666,0.9166666666666666,0.8333333333333334,0.7916666666666666,0.875,0.8333333333333334,0.7083333333333333,0.875,0.7916666666666666,1.2083333333333333,1.125,0.6666666666666667,1.3333333333333333,1.2083333333333333,1.625,1.2916666666666667,1.2916666666666667,1.2916666666666667,1.2916666666666667,1.3333333333333333,1.125,1.0416666666666667,1.0833333333333333,1.0416666666666667,1.0833333333333333,1.2083333333333333,1.0833333333333333,1.0833333333333333,1.125,1.25,1.2916666666666667,1.2083333333333333,1.0416666666666667,1.25,1.1666666666666667,1.2083333333333333,1.2083333333333333,0.9166666666666666,1.125,1.0833333333333333,0.875,0.5833333333333333,1.2083333333333333,1.2083333333333333,1.125,1.125,0.9166666666666666,1.125,1.0416666666666667,1.375,1.25,1.375,1.0833333333333333,1.0833333333333333,1.4583333333333333,1.5833333333333335,1.2083333333333333,1.1666666666666667,1.25,1.25,1.375,1.4166666666666667,1.3333333333333333,1.2916666666666667,1.0833333333333333,1.375,1.5,0.8333333333333334,0.8333333333333334,0.9583333333333334,1.0,0.8333333333333334,0.8333333333333334,0.8333333333333334,1.0,0.9583333333333334,0.875,0.8333333333333334,1.0416666666666667,0.7916666666666666,1.0833333333333333,1.0,0.7916666666666666,0.8333333333333334,0.7083333333333333,0.7916666666666666,0.75,0.9583333333333334,1.0416666666666667,0.75,0.8333333333333334,1.1666666666666667,0.9583333333333334,1.0416666666666667,0.8333333333333334,0.875,0.8333333333333334,0.9166666666666666,1.0416666666666667,0.7916666666666666,0.9166666666666666,0.75,0.875,0.9166666666666666,1.0,1.125,0.9583333333333334,0.9166666666666666,0.875,0.9166666666666666,0.9583333333333334,0.875,0.7916666666666666,0.875,0.9583333333333334,1.0,0.875,0.875,0.6666666666666667,0.875,0.8333333333333334,0.875,0.875,0.9166666666666666,0.9166666666666666,0.7916666666666666,0.875,0.7916666666666666,0.9166666666666666,0.8333333333333334,0.7916666666666666,0.875,0.8333333333333334,0.7083333333333333,0.875,0.75],\"type\":\"violin\"},{\"box\":{\"visible\":true},\"fillcolor\":\"darkseagreen\",\"legendgroup\":\"Outside City\",\"line\":{\"color\":\"grey\"},\"meanline\":{\"visible\":true},\"name\":\"Outside City\",\"scalegroup\":\"Outside City\",\"x\":[\"Student\",\"Student\",\"Student\",\"Student\",\"Student\",\"Student\",\"Doctor\",\"Student\",\"Student\",\"Student\",\"Student\",\"Student\",\"Student\",\"Student\",\"Student\",\"Student\",\"Doctor\",\"Doctor\",\"Doctor\",\"Doctor\",\"Doctor\",\"Doctor\",\"Doctor\",\"Doctor\",\"Doctor\",\"Doctor\",\"Student\",\"Student\",\"Doctor\",\"Student\",\"Technician\",\"Doctor\",\"Pathologist\",\"Doctor\",\"Doctor\",\"Doctor\",\"Doctor\",\"Doctor\",\"Doctor\",\"Doctor\",\"Doctor\",\"Doctor\",\"Doctor\",\"Student\",\"Doctor\",\"Student\",\"Student\",\"Student\",\"Student\",\"Doctor\",\"Doctor\",\"Student\",\"Student\",\"Student\",\"Technician\",\"Technician\",\"Pathologist\",\"Pathologist\",\"Doctor\",\"Student\",\"Student\",\"Doctor\",\"Doctor\",\"Doctor\",\"Doctor\",\"Doctor\",\"Student\",\"Student\",\"Student\",\"Student\",\"Student\",\"Student\",\"Student\",\"Pathologist\",\"Pathologist\",\"Radiologist\",\"Radiologist\",\"Pathologist\",\"Pathologist\",\"Pathologist\",\"Technician\",\"Pathologist\",\"Pathologist\",\"Technician\",\"Radiologist\",\"Pathologist\",\"Pathologist\",\"Radiologist\",\"Student\",\"Doctor\",\"Student\",\"Student\",\"Pathologist\",\"Student\",\"Radiologist\",\"Radiologist\",\"Pathologist\",\"Technician\",\"Doctor\",\"Doctor\",\"Doctor\",\"Doctor\",\"Doctor\",\"Doctor\",\"Pathologist\",\"Doctor\",\"Student\",\"Doctor\",\"Student\",\"Radiologist\",\"Doctor\",\"Doctor\",\"Doctor\",\"Doctor\",\"Doctor\",\"Doctor\",\"Doctor\",\"Radiologist\",\"Radiologist\",\"Radiologist\",\"Student\",\"Doctor\",\"Student\",\"Student\",\"Student\",\"Pathologist\",\"Student\",\"Student\",\"Pathologist\",\"Doctor\",\"Student\",\"Doctor\",\"Student\",\"Radiologist\",\"Radiologist\",\"Radiologist\",\"Technician\",\"Doctor\",\"Doctor\",\"Doctor\",\"Doctor\",\"Doctor\",\"Doctor\",\"Doctor\",\"Doctor\",\"Doctor\"],\"y\":[1.4583333333333333,0.8333333333333334,0.625,0.9583333333333334,1.0416666666666667,1.1666666666666667,1.1666666666666667,1.0,1.3333333333333333,1.2916666666666667,1.3333333333333333,1.625,1.0833333333333333,1.0416666666666667,1.0416666666666667,0.9583333333333334,1.0416666666666667,0.8333333333333334,0.75,0.75,1.0,0.7083333333333333,0.7916666666666666,0.7083333333333333,0.6666666666666667,0.7083333333333333,1.0416666666666667,1.0833333333333333,0.9166666666666666,1.25,1.0,1.1666666666666667,0.9583333333333334,0.9583333333333334,1.0,0.8333333333333334,0.7916666666666666,0.75,0.7083333333333333,0.75,1.625,1.4583333333333333,1.5833333333333335,0.75,1.25,1.0,1.3333333333333333,1.0,1.5,1.5833333333333335,1.25,1.1666666666666667,1.0833333333333333,1.2083333333333333,1.0833333333333333,1.3333333333333333,1.5,1.4166666666666667,1.0,0.9583333333333334,1.0,1.125,1.625,1.6666666666666665,0.8333333333333334,0.9583333333333334,1.0,0.875,1.0833333333333333,0.9166666666666666,1.0833333333333333,0.8333333333333334,0.9583333333333334,1.125,1.0416666666666667,1.5,1.375,1.125,1.2916666666666667,1.2916666666666667,1.0833333333333333,1.25,1.0,1.0,0.9166666666666666,1.2083333333333333,1.1666666666666667,1.0833333333333333,1.25,1.125,1.0416666666666667,0.9583333333333334,1.0833333333333333,0.75,0.9583333333333334,1.0833333333333333,1.0416666666666667,1.0833333333333333,1.5833333333333335,1.375,1.2916666666666667,1.2916666666666667,1.375,1.25,1.0416666666666667,0.9166666666666666,1.0833333333333333,1.0,1.0833333333333333,0.7083333333333333,0.9166666666666666,0.9166666666666666,0.75,0.875,0.875,0.875,0.75,0.7083333333333333,1.0,0.9583333333333334,0.8333333333333334,1.0416666666666667,1.125,1.2083333333333333,1.0833333333333333,0.9166666666666666,1.3333333333333333,1.1666666666666667,0.9583333333333334,1.1666666666666667,1.0833333333333333,1.25,1.0,0.9166666666666666,0.9166666666666666,0.8333333333333334,0.8333333333333334,1.125,0.9166666666666666,0.9583333333333334,0.9583333333333334,0.8333333333333334,0.875,0.9166666666666666,0.9583333333333334,0.8333333333333334],\"type\":\"violin\"}],                        {\"template\":{\"data\":{\"histogram2dcontour\":[{\"type\":\"histogram2dcontour\",\"colorbar\":{\"outlinewidth\":0,\"ticks\":\"\"},\"colorscale\":[[0.0,\"#0d0887\"],[0.1111111111111111,\"#46039f\"],[0.2222222222222222,\"#7201a8\"],[0.3333333333333333,\"#9c179e\"],[0.4444444444444444,\"#bd3786\"],[0.5555555555555556,\"#d8576b\"],[0.6666666666666666,\"#ed7953\"],[0.7777777777777778,\"#fb9f3a\"],[0.8888888888888888,\"#fdca26\"],[1.0,\"#f0f921\"]]}],\"choropleth\":[{\"type\":\"choropleth\",\"colorbar\":{\"outlinewidth\":0,\"ticks\":\"\"}}],\"histogram2d\":[{\"type\":\"histogram2d\",\"colorbar\":{\"outlinewidth\":0,\"ticks\":\"\"},\"colorscale\":[[0.0,\"#0d0887\"],[0.1111111111111111,\"#46039f\"],[0.2222222222222222,\"#7201a8\"],[0.3333333333333333,\"#9c179e\"],[0.4444444444444444,\"#bd3786\"],[0.5555555555555556,\"#d8576b\"],[0.6666666666666666,\"#ed7953\"],[0.7777777777777778,\"#fb9f3a\"],[0.8888888888888888,\"#fdca26\"],[1.0,\"#f0f921\"]]}],\"heatmap\":[{\"type\":\"heatmap\",\"colorbar\":{\"outlinewidth\":0,\"ticks\":\"\"},\"colorscale\":[[0.0,\"#0d0887\"],[0.1111111111111111,\"#46039f\"],[0.2222222222222222,\"#7201a8\"],[0.3333333333333333,\"#9c179e\"],[0.4444444444444444,\"#bd3786\"],[0.5555555555555556,\"#d8576b\"],[0.6666666666666666,\"#ed7953\"],[0.7777777777777778,\"#fb9f3a\"],[0.8888888888888888,\"#fdca26\"],[1.0,\"#f0f921\"]]}],\"heatmapgl\":[{\"type\":\"heatmapgl\",\"colorbar\":{\"outlinewidth\":0,\"ticks\":\"\"},\"colorscale\":[[0.0,\"#0d0887\"],[0.1111111111111111,\"#46039f\"],[0.2222222222222222,\"#7201a8\"],[0.3333333333333333,\"#9c179e\"],[0.4444444444444444,\"#bd3786\"],[0.5555555555555556,\"#d8576b\"],[0.6666666666666666,\"#ed7953\"],[0.7777777777777778,\"#fb9f3a\"],[0.8888888888888888,\"#fdca26\"],[1.0,\"#f0f921\"]]}],\"contourcarpet\":[{\"type\":\"contourcarpet\",\"colorbar\":{\"outlinewidth\":0,\"ticks\":\"\"}}],\"contour\":[{\"type\":\"contour\",\"colorbar\":{\"outlinewidth\":0,\"ticks\":\"\"},\"colorscale\":[[0.0,\"#0d0887\"],[0.1111111111111111,\"#46039f\"],[0.2222222222222222,\"#7201a8\"],[0.3333333333333333,\"#9c179e\"],[0.4444444444444444,\"#bd3786\"],[0.5555555555555556,\"#d8576b\"],[0.6666666666666666,\"#ed7953\"],[0.7777777777777778,\"#fb9f3a\"],[0.8888888888888888,\"#fdca26\"],[1.0,\"#f0f921\"]]}],\"surface\":[{\"type\":\"surface\",\"colorbar\":{\"outlinewidth\":0,\"ticks\":\"\"},\"colorscale\":[[0.0,\"#0d0887\"],[0.1111111111111111,\"#46039f\"],[0.2222222222222222,\"#7201a8\"],[0.3333333333333333,\"#9c179e\"],[0.4444444444444444,\"#bd3786\"],[0.5555555555555556,\"#d8576b\"],[0.6666666666666666,\"#ed7953\"],[0.7777777777777778,\"#fb9f3a\"],[0.8888888888888888,\"#fdca26\"],[1.0,\"#f0f921\"]]}],\"mesh3d\":[{\"type\":\"mesh3d\",\"colorbar\":{\"outlinewidth\":0,\"ticks\":\"\"}}],\"scatter\":[{\"fillpattern\":{\"fillmode\":\"overlay\",\"size\":10,\"solidity\":0.2},\"type\":\"scatter\"}],\"parcoords\":[{\"type\":\"parcoords\",\"line\":{\"colorbar\":{\"outlinewidth\":0,\"ticks\":\"\"}}}],\"scatterpolargl\":[{\"type\":\"scatterpolargl\",\"marker\":{\"colorbar\":{\"outlinewidth\":0,\"ticks\":\"\"}}}],\"bar\":[{\"error_x\":{\"color\":\"#2a3f5f\"},\"error_y\":{\"color\":\"#2a3f5f\"},\"marker\":{\"line\":{\"color\":\"#E5ECF6\",\"width\":0.5},\"pattern\":{\"fillmode\":\"overlay\",\"size\":10,\"solidity\":0.2}},\"type\":\"bar\"}],\"scattergeo\":[{\"type\":\"scattergeo\",\"marker\":{\"colorbar\":{\"outlinewidth\":0,\"ticks\":\"\"}}}],\"scatterpolar\":[{\"type\":\"scatterpolar\",\"marker\":{\"colorbar\":{\"outlinewidth\":0,\"ticks\":\"\"}}}],\"histogram\":[{\"marker\":{\"pattern\":{\"fillmode\":\"overlay\",\"size\":10,\"solidity\":0.2}},\"type\":\"histogram\"}],\"scattergl\":[{\"type\":\"scattergl\",\"marker\":{\"colorbar\":{\"outlinewidth\":0,\"ticks\":\"\"}}}],\"scatter3d\":[{\"type\":\"scatter3d\",\"line\":{\"colorbar\":{\"outlinewidth\":0,\"ticks\":\"\"}},\"marker\":{\"colorbar\":{\"outlinewidth\":0,\"ticks\":\"\"}}}],\"scattermapbox\":[{\"type\":\"scattermapbox\",\"marker\":{\"colorbar\":{\"outlinewidth\":0,\"ticks\":\"\"}}}],\"scatterternary\":[{\"type\":\"scatterternary\",\"marker\":{\"colorbar\":{\"outlinewidth\":0,\"ticks\":\"\"}}}],\"scattercarpet\":[{\"type\":\"scattercarpet\",\"marker\":{\"colorbar\":{\"outlinewidth\":0,\"ticks\":\"\"}}}],\"carpet\":[{\"aaxis\":{\"endlinecolor\":\"#2a3f5f\",\"gridcolor\":\"white\",\"linecolor\":\"white\",\"minorgridcolor\":\"white\",\"startlinecolor\":\"#2a3f5f\"},\"baxis\":{\"endlinecolor\":\"#2a3f5f\",\"gridcolor\":\"white\",\"linecolor\":\"white\",\"minorgridcolor\":\"white\",\"startlinecolor\":\"#2a3f5f\"},\"type\":\"carpet\"}],\"table\":[{\"cells\":{\"fill\":{\"color\":\"#EBF0F8\"},\"line\":{\"color\":\"white\"}},\"header\":{\"fill\":{\"color\":\"#C8D4E3\"},\"line\":{\"color\":\"white\"}},\"type\":\"table\"}],\"barpolar\":[{\"marker\":{\"line\":{\"color\":\"#E5ECF6\",\"width\":0.5},\"pattern\":{\"fillmode\":\"overlay\",\"size\":10,\"solidity\":0.2}},\"type\":\"barpolar\"}],\"pie\":[{\"automargin\":true,\"type\":\"pie\"}]},\"layout\":{\"autotypenumbers\":\"strict\",\"colorway\":[\"#636efa\",\"#EF553B\",\"#00cc96\",\"#ab63fa\",\"#FFA15A\",\"#19d3f3\",\"#FF6692\",\"#B6E880\",\"#FF97FF\",\"#FECB52\"],\"font\":{\"color\":\"#2a3f5f\"},\"hovermode\":\"closest\",\"hoverlabel\":{\"align\":\"left\"},\"paper_bgcolor\":\"white\",\"plot_bgcolor\":\"#E5ECF6\",\"polar\":{\"bgcolor\":\"#E5ECF6\",\"angularaxis\":{\"gridcolor\":\"white\",\"linecolor\":\"white\",\"ticks\":\"\"},\"radialaxis\":{\"gridcolor\":\"white\",\"linecolor\":\"white\",\"ticks\":\"\"}},\"ternary\":{\"bgcolor\":\"#E5ECF6\",\"aaxis\":{\"gridcolor\":\"white\",\"linecolor\":\"white\",\"ticks\":\"\"},\"baxis\":{\"gridcolor\":\"white\",\"linecolor\":\"white\",\"ticks\":\"\"},\"caxis\":{\"gridcolor\":\"white\",\"linecolor\":\"white\",\"ticks\":\"\"}},\"coloraxis\":{\"colorbar\":{\"outlinewidth\":0,\"ticks\":\"\"}},\"colorscale\":{\"sequential\":[[0.0,\"#0d0887\"],[0.1111111111111111,\"#46039f\"],[0.2222222222222222,\"#7201a8\"],[0.3333333333333333,\"#9c179e\"],[0.4444444444444444,\"#bd3786\"],[0.5555555555555556,\"#d8576b\"],[0.6666666666666666,\"#ed7953\"],[0.7777777777777778,\"#fb9f3a\"],[0.8888888888888888,\"#fdca26\"],[1.0,\"#f0f921\"]],\"sequentialminus\":[[0.0,\"#0d0887\"],[0.1111111111111111,\"#46039f\"],[0.2222222222222222,\"#7201a8\"],[0.3333333333333333,\"#9c179e\"],[0.4444444444444444,\"#bd3786\"],[0.5555555555555556,\"#d8576b\"],[0.6666666666666666,\"#ed7953\"],[0.7777777777777778,\"#fb9f3a\"],[0.8888888888888888,\"#fdca26\"],[1.0,\"#f0f921\"]],\"diverging\":[[0,\"#8e0152\"],[0.1,\"#c51b7d\"],[0.2,\"#de77ae\"],[0.3,\"#f1b6da\"],[0.4,\"#fde0ef\"],[0.5,\"#f7f7f7\"],[0.6,\"#e6f5d0\"],[0.7,\"#b8e186\"],[0.8,\"#7fbc41\"],[0.9,\"#4d9221\"],[1,\"#276419\"]]},\"xaxis\":{\"gridcolor\":\"white\",\"linecolor\":\"white\",\"ticks\":\"\",\"title\":{\"standoff\":15},\"zerolinecolor\":\"white\",\"automargin\":true,\"zerolinewidth\":2},\"yaxis\":{\"gridcolor\":\"white\",\"linecolor\":\"white\",\"ticks\":\"\",\"title\":{\"standoff\":15},\"zerolinecolor\":\"white\",\"automargin\":true,\"zerolinewidth\":2},\"scene\":{\"xaxis\":{\"backgroundcolor\":\"#E5ECF6\",\"gridcolor\":\"white\",\"linecolor\":\"white\",\"showbackground\":true,\"ticks\":\"\",\"zerolinecolor\":\"white\",\"gridwidth\":2},\"yaxis\":{\"backgroundcolor\":\"#E5ECF6\",\"gridcolor\":\"white\",\"linecolor\":\"white\",\"showbackground\":true,\"ticks\":\"\",\"zerolinecolor\":\"white\",\"gridwidth\":2},\"zaxis\":{\"backgroundcolor\":\"#E5ECF6\",\"gridcolor\":\"white\",\"linecolor\":\"white\",\"showbackground\":true,\"ticks\":\"\",\"zerolinecolor\":\"white\",\"gridwidth\":2}},\"shapedefaults\":{\"line\":{\"color\":\"#2a3f5f\"}},\"annotationdefaults\":{\"arrowcolor\":\"#2a3f5f\",\"arrowhead\":0,\"arrowwidth\":1},\"geo\":{\"bgcolor\":\"white\",\"landcolor\":\"#E5ECF6\",\"subunitcolor\":\"white\",\"showland\":true,\"showlakes\":true,\"lakecolor\":\"white\"},\"title\":{\"x\":0.05},\"mapbox\":{\"style\":\"light\"}}},\"violinmode\":\"group\",\"autosize\":false,\"width\":800,\"height\":500},                        {\"responsive\": true}                    ).then(function(){\n",
       "                            \n",
       "var gd = document.getElementById('2fe559cc-ba58-4430-9129-0da9b983a602');\n",
       "var x = new MutationObserver(function (mutations, observer) {{\n",
       "        var display = window.getComputedStyle(gd).display;\n",
       "        if (!display || display === 'none') {{\n",
       "            console.log([gd, 'removed!']);\n",
       "            Plotly.purge(gd);\n",
       "            observer.disconnect();\n",
       "        }}\n",
       "}});\n",
       "\n",
       "// Listen for the removal of the full notebook cells\n",
       "var notebookContainer = gd.closest('#notebook-container');\n",
       "if (notebookContainer) {{\n",
       "    x.observe(notebookContainer, {childList: true});\n",
       "}}\n",
       "\n",
       "// Listen for the clearing of the current output cell\n",
       "var outputEl = gd.closest('.output');\n",
       "if (outputEl) {{\n",
       "    x.observe(outputEl, {childList: true});\n",
       "}}\n",
       "\n",
       "                        })                };                });            </script>        </div>"
      ]
     },
     "metadata": {},
     "output_type": "display_data"
    }
   ],
   "source": [
    "import pandas as pd\n",
    "import seaborn as sb\n",
    "from matplotlib import pyplot as plt\n",
    "import plotly.graph_objects as go\n",
    "\n",
    "\n",
    "#my_df = sb.load_dataset('tips')\n",
    "#my_df.head()\n",
    "\n",
    "\n",
    "excel_file=\"violin plot confidence for professions.xlsx\"\n",
    "#df=pd.read_excel(excel_file, sheet_name='Students', index_col=0)\n",
    "\n",
    "df=pd.read_excel(excel_file, sheet_name='data', usecols = ['Role','Average Confidence Score', 'Urban-rural']) \n",
    "\n",
    "\n",
    "#print(dataframe)\n",
    "\n",
    "print(df.shape)\n",
    "\n",
    "df.head()\n",
    "\n",
    "\n",
    "# creating a dictionary with one specific color per group:\n",
    "my_pal = {\"Student\": \"deeppink\", \"Doctor\": \"blueviolet\", \"Pathologist\": \"cyan\", \"Radiologist\": \"darkseagreen\", \"Technician\": \"yellow\"}\n",
    "\n",
    "#seaborn.violinplot(x, y,data,…) \n",
    "sb.violinplot(x = \"Role\", y = \"Average Confidence Score\", data=df, palette=my_pal, order=[\"Student\", \"Doctor\", \"Pathologist\", \"Radiologist\", \"Technician\"])\n",
    "plt.show()\n",
    "\n",
    "\n",
    "\n",
    "\n",
    "#violin plot using pyplot\n",
    "\n",
    "#import plotly.graph_objects as go\n",
    "\n",
    "#import pandas as pd\n",
    "\n",
    "#df = pd.read_csv(\"https://raw.githubusercontent.com/plotly/datasets/master/violin_data.csv\")\n",
    "\n",
    "fig = go.Figure()\n",
    "\n",
    "roles = ['Student', 'Doctor', 'Pathologist', 'Radiologist', 'Technician']\n",
    "\n",
    "\n",
    "count=0\n",
    "\n",
    "for role in roles:\n",
    "    \n",
    "    count=count+1\n",
    "    if count==1:\n",
    "        colors='hotpink'\n",
    "    elif count==2:\n",
    "        colors='mediumorchid'\n",
    "    elif count==3:\n",
    "        colors='cyan'\n",
    "    elif count==4:\n",
    "        colors='darkseagreen'\n",
    "    else:\n",
    "        colors='gold'\n",
    "        \n",
    "        \n",
    "\n",
    "    fig.add_trace(go.Violin(x=df['Role'][df['Role'] == role],\n",
    "                            y=df['Average Confidence Score'][df['Role'] == role],\n",
    "                            name=role,fillcolor=colors,line_color='dimgray',box_visible=True,\n",
    "                            meanline_visible=True))\n",
    "    \n",
    "    #resize the figure\n",
    "    fig.update_layout(autosize=False, width=800, height=500)\n",
    "\n",
    "fig.show()\n",
    "\n",
    "\n",
    "\n",
    "\n",
    "\n",
    "\n",
    "###Grouped violin plot (Outside city vs Inside city familarity score)\n",
    "\n",
    "fig = go.Figure()\n",
    "\n",
    "fig.add_trace(go.Violin(x=df['Role'][ df['Urban-rural'] == 'Inside City' ],\n",
    "                        y=df['Average Confidence Score'][ df['Urban-rural'] == 'Inside City' ],\n",
    "                        legendgroup='Inside City', scalegroup='Inside City', name='Inside City',\n",
    "                        line_color='grey',box_visible=True,meanline_visible=True, fillcolor='gold'))\n",
    "\n",
    "\n",
    "fig.add_trace(go.Violin(x=df['Role'][ df['Urban-rural'] == 'Outside City' ],\n",
    "                        y=df['Average Confidence Score'][ df['Urban-rural'] == 'Outside City' ],\n",
    "                        legendgroup='Outside City', scalegroup='Outside City', name='Outside City',\n",
    "                        line_color='grey',box_visible=True,meanline_visible=True, fillcolor='darkseagreen'))\n",
    "\n",
    "fig.update_traces(box_visible=True, meanline_visible=True)\n",
    "fig.update_layout(violinmode='group',autosize=False, width=800,height=500)\n",
    "\n",
    "fig.show()\n"
   ]
  },
  {
   "cell_type": "code",
   "execution_count": null,
   "id": "85009d44",
   "metadata": {},
   "outputs": [],
   "source": []
  }
 ],
 "metadata": {
  "kernelspec": {
   "display_name": "Python 3",
   "language": "python",
   "name": "python3"
  },
  "language_info": {
   "codemirror_mode": {
    "name": "ipython",
    "version": 3
   },
   "file_extension": ".py",
   "mimetype": "text/x-python",
   "name": "python",
   "nbconvert_exporter": "python",
   "pygments_lexer": "ipython3",
   "version": "3.8.8"
  }
 },
 "nbformat": 4,
 "nbformat_minor": 5
}
