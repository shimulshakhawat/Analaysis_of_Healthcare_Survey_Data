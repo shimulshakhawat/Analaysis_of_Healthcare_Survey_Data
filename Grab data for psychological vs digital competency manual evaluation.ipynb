{
 "cells": [
  {
   "cell_type": "code",
   "execution_count": 43,
   "id": "888f32eb",
   "metadata": {},
   "outputs": [
    {
     "name": "stdout",
     "output_type": "stream",
     "text": [
      "0\n"
     ]
    }
   ],
   "source": [
    "import numpy as np\n",
    "import pandas as pd\n",
    "import matplotlib as mpl\n",
    "import matplotlib.pyplot as plt\n",
    "\n",
    "excel_file=\"psychological preparedness vs digital health competency data.xlsx\"\n",
    "df=pd.read_excel(excel_file, sheet_name='calculation', usecols = 'A:K')\n",
    "#print(df.shape)\n",
    "#df.head()\n",
    "\n",
    "count=0\n",
    "\n",
    "\n",
    "\"\"\"\n",
    "#psychological preparedness vs digital health competency\n",
    "\n",
    "for i in range(df.shape[0]):\n",
    "    \n",
    "    \n",
    "    pp_rank=str(df['Categorical PP'].iloc[i])\n",
    "    \n",
    "    if pp_rank=='Beginner': #Expert, Proficient, Competent, Advanced, Beginner\n",
    "    \n",
    "        dhc_rank=str(df['Categorical DHC'].iloc[i])\n",
    "        \n",
    "\n",
    "        if dhc_rank=='Expert':  #Expert, Proficient, Competent, Advanced, Beginner\n",
    "            count=count+1\n",
    "\n",
    "\n",
    "        #print(\"{}:{}\".format(score,cat))\n",
    "\n",
    "    \n",
    "print(count)\n",
    "\"\"\"\n",
    "\n",
    "\n",
    "#sentiment vs digital health competency\n",
    "\n",
    "for i in range(df.shape[0]):\n",
    "    \n",
    "    \n",
    "    dhc_rank=str(df['Categorical DHC'].iloc[i])\n",
    "    \n",
    "    if dhc_rank=='Beginner': #Expert, Proficient, Competent, Advanced, Beginner\n",
    "    \n",
    "        senti=str(df['Sentiment'].iloc[i])\n",
    "        \n",
    "\n",
    "        if senti==' Neutral':  #Positive, Negative, Neutral\n",
    "            count=count+1\n",
    "\n",
    "\n",
    "        #print(\"{}:{}\".format(score,cat))\n",
    "\n",
    "    \n",
    "print(count)"
   ]
  },
  {
   "cell_type": "code",
   "execution_count": null,
   "id": "67db3684",
   "metadata": {},
   "outputs": [],
   "source": []
  }
 ],
 "metadata": {
  "kernelspec": {
   "display_name": "Python 3",
   "language": "python",
   "name": "python3"
  },
  "language_info": {
   "codemirror_mode": {
    "name": "ipython",
    "version": 3
   },
   "file_extension": ".py",
   "mimetype": "text/x-python",
   "name": "python",
   "nbconvert_exporter": "python",
   "pygments_lexer": "ipython3",
   "version": "3.8.8"
  }
 },
 "nbformat": 4,
 "nbformat_minor": 5
}
