{
 "cells": [
  {
   "cell_type": "code",
   "execution_count": 21,
   "id": "182e4668",
   "metadata": {
    "scrolled": false
   },
   "outputs": [
    {
     "name": "stdout",
     "output_type": "stream",
     "text": [
      "Positive\n",
      "Positive\n",
      "Positive\n",
      "Positive\n",
      "Positive\n",
      "Positive\n",
      "Negative\n",
      "Positive\n",
      "Positive\n",
      "Positive\n",
      "Positive\n",
      "Positive\n",
      "Positive\n",
      "Positive\n",
      "Negative\n",
      "Negative\n",
      "Negative\n",
      "Negative\n",
      "Positive\n",
      "Positive\n",
      "Positive\n",
      "Positive\n",
      "Positive\n",
      "Positive\n"
     ]
    }
   ],
   "source": [
    "import numpy as np\n",
    "import pandas as pd\n",
    "import matplotlib as mpl\n",
    "import matplotlib.pyplot as plt\n",
    "\n",
    "\n",
    "# grab data for correlation using numerical val\n",
    "#excel_file=\"Potential of workforce.xlsx\"\n",
    "#df=pd.read_excel(excel_file, sheet_name='calculation', usecols = 'A:K')\n",
    "\n",
    "\n",
    "# grab data for correlation using categorical val\n",
    "#excel_file=\"Chi Square Analysis.xlsx\"\n",
    "#df=pd.read_excel(excel_file, sheet_name='calculation', usecols = 'A:K')\n",
    "\n",
    "excel_file=\"Sentiments Analaysis.xlsx\"\n",
    "df=pd.read_excel(excel_file, sheet_name='calculation', usecols = 'A:N')\n",
    "\n",
    "\n",
    "\n",
    "#print(df.shape)\n",
    "\n",
    "df.head()\n",
    "\n",
    "\n",
    "count=0\n",
    "\n",
    "for i in range(df.shape[0]):\n",
    "    \n",
    "    role=str(df['Role'].iloc[i])\n",
    "\n",
    "        \n",
    "    #if role==\"Doctor\":\n",
    "    #if role==\"Student\":\n",
    "    #if role==\"Pathologist\":\n",
    "    #if role==\"Radiologist\":\n",
    "    if role==\"Technician\":\n",
    "        \n",
    "        \n",
    "        \n",
    "        #count=count+1\n",
    "            \n",
    "        #PP=str(df['Psychological preparedness'].iloc[i])\n",
    "        #print(PP)\n",
    "            \n",
    "        #DHC=str(df['Digital health competency'].iloc[i])\n",
    "        #print(DHC)\n",
    "        \n",
    "            \n",
    "        Sentiment=str(df['Color trinary'].iloc[i])\n",
    "        print(Sentiment)          \n",
    "    \n",
    "#print(count)\n",
    "\n"
   ]
  },
  {
   "cell_type": "code",
   "execution_count": null,
   "id": "54128280",
   "metadata": {},
   "outputs": [],
   "source": []
  }
 ],
 "metadata": {
  "kernelspec": {
   "display_name": "Python 3",
   "language": "python",
   "name": "python3"
  },
  "language_info": {
   "codemirror_mode": {
    "name": "ipython",
    "version": 3
   },
   "file_extension": ".py",
   "mimetype": "text/x-python",
   "name": "python",
   "nbconvert_exporter": "python",
   "pygments_lexer": "ipython3",
   "version": "3.8.8"
  }
 },
 "nbformat": 4,
 "nbformat_minor": 5
}
