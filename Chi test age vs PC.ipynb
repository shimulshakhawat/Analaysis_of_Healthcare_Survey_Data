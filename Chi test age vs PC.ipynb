{
 "cells": [
  {
   "cell_type": "code",
   "execution_count": null,
   "id": "819912b8",
   "metadata": {},
   "outputs": [],
   "source": [
    "from scipy.stats import chi2_contingency\n",
    "from scipy.stats import chi2\n",
    "\n",
    "\n",
    "\n",
    "\n",
    "# contingency table for profession vs psychological preparedness \n",
    "\n",
    "#rows: student, doctor, pathologist, radiologist, technician\n",
    "\n",
    "#cols: Expert, proficient, competent, advanced, beginner \n",
    "\n",
    "#threfore the DoF: (5-1) (5-1)=16\n",
    "\n",
    "# defining the table\n",
    "#each row data=[[student], [doctor], [pathologist], [radiologist], [technician]]\n",
    "#for each prof \n",
    "#[ [expert from student , proficient from student, similarly], \n",
    "\n",
    "\n",
    "\n",
    "#in chi-square test the degree of freedom is:\n",
    "#Degree of freedom is calculated by using the following formula:\n",
    "#DF = (r-1)(c-1) Where\n",
    "#DF = Degree of freedom\n",
    "#r = number of rows\n",
    "#c = number of columns\n",
    "\n",
    "\n",
    "table = [[101, 402, 178, 18, 3], [37, 180, 360, 112, 13]]\n",
    "print(table)\n",
    "\n",
    "stat, p, dof, expected = chi2_contingency(table)\n",
    "print('dof=%d' % dof)\n",
    "print(expected)\n",
    "# interpret test-statistic\n",
    "prob = 0.95\n",
    "critical = chi2.ppf(prob, dof)\n",
    "print('probability=%.3f, critical=%.3f, stat=%.3f' % (prob, critical, stat))\n",
    "if abs(stat) >= critical:\n",
    "    print('Dependent (reject H0)')\n",
    "else:\n",
    "    print('Independent (fail to reject H0)')\n",
    "    \n",
    "# interpret p-value\n",
    "alpha = 1.0 - prob\n",
    "print(\"significance:{}\".format(alpha))\n",
    "print(\"p-value:{}\".format(p))\n",
    "#print('significance=%.3f, p=%f' % (alpha, p))\n",
    "if p <= alpha:\n",
    "    print('Dependent (reject H0)')\n",
    "else:\n",
    "    print('Independent (fail to reject H0)')\n",
    "\n"
   ]
  }
 ],
 "metadata": {
  "kernelspec": {
   "display_name": "Python 3",
   "language": "python",
   "name": "python3"
  },
  "language_info": {
   "codemirror_mode": {
    "name": "ipython",
    "version": 3
   },
   "file_extension": ".py",
   "mimetype": "text/x-python",
   "name": "python",
   "nbconvert_exporter": "python",
   "pygments_lexer": "ipython3",
   "version": "3.8.8"
  }
 },
 "nbformat": 4,
 "nbformat_minor": 5
}
